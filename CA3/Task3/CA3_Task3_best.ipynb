{
 "cells": [
  {
   "cell_type": "markdown",
   "id": "c3a21036",
   "metadata": {},
   "source": [
    "## Recommender System"
   ]
  },
  {
   "cell_type": "markdown",
   "id": "efe9875a",
   "metadata": {},
   "source": [
    "In this task, we will design and evaluate a movie recommendation system that predicts the ratings a user would give to a movie they have not yet rated. We will need to develop a recommendation system to predict the ratings in the test set."
   ]
  },
  {
   "cell_type": "code",
   "execution_count": 85,
   "id": "46e587b2",
   "metadata": {},
   "outputs": [],
   "source": [
    "import pandas as pd\n",
    "import numpy as np\n",
    "from sklearn.preprocessing import StandardScaler\n",
    "import matplotlib.pyplot as plt\n",
    "from sklearn.preprocessing import MinMaxScaler\n",
    "import seaborn as sns\n",
    "from sklearn.metrics import mean_squared_error, mean_absolute_error, r2_score\n",
    "from surprise import SVD, Dataset, Reader\n",
    "from surprise.model_selection import GridSearchCV\n",
    "import networkx as nx\n",
    "from sklearn.model_selection import train_test_split"
   ]
  },
  {
   "cell_type": "markdown",
   "id": "22278a1e",
   "metadata": {},
   "source": [
    "### EDA"
   ]
  },
  {
   "cell_type": "markdown",
   "id": "be17d646",
   "metadata": {},
   "source": [
    "First, we import the csv's into dataframes."
   ]
  },
  {
   "cell_type": "code",
   "execution_count": 86,
   "id": "5c8b3ce5",
   "metadata": {},
   "outputs": [],
   "source": [
    "df_rate = pd.read_csv(\"./train_data_movie_rate.csv\")\n",
    "df_trust = pd.read_csv(\"./train_data_movie_trust.csv\")\n",
    "df_test = pd.read_csv(\"./test_data.csv\")"
   ]
  },
  {
   "cell_type": "markdown",
   "id": "3432cbde",
   "metadata": {},
   "source": [
    "Then we do some analysis on the dataset in order to understand the data better."
   ]
  },
  {
   "cell_type": "code",
   "execution_count": 87,
   "id": "16643601",
   "metadata": {},
   "outputs": [
    {
     "data": {
      "text/plain": [
       "(34298, 4)"
      ]
     },
     "execution_count": 87,
     "metadata": {},
     "output_type": "execute_result"
    }
   ],
   "source": [
    "df_rate.shape"
   ]
  },
  {
   "cell_type": "code",
   "execution_count": 88,
   "id": "ae8ef140",
   "metadata": {},
   "outputs": [
    {
     "data": {
      "text/plain": [
       "(1853, 4)"
      ]
     },
     "execution_count": 88,
     "metadata": {},
     "output_type": "execute_result"
    }
   ],
   "source": [
    "df_trust.shape"
   ]
  },
  {
   "cell_type": "code",
   "execution_count": 89,
   "id": "06cd8764",
   "metadata": {},
   "outputs": [
    {
     "name": "stdout",
     "output_type": "stream",
     "text": [
      "<class 'pandas.core.frame.DataFrame'>\n",
      "RangeIndex: 34298 entries, 0 to 34297\n",
      "Data columns (total 4 columns):\n",
      " #   Column   Non-Null Count  Dtype  \n",
      "---  ------   --------------  -----  \n",
      " 0   id       34298 non-null  int64  \n",
      " 1   user_id  34298 non-null  int64  \n",
      " 2   item_id  34298 non-null  int64  \n",
      " 3   label    34298 non-null  float64\n",
      "dtypes: float64(1), int64(3)\n",
      "memory usage: 1.0 MB\n"
     ]
    }
   ],
   "source": [
    "df_rate.info()"
   ]
  },
  {
   "cell_type": "code",
   "execution_count": 90,
   "id": "10b15a59",
   "metadata": {},
   "outputs": [
    {
     "name": "stdout",
     "output_type": "stream",
     "text": [
      "<class 'pandas.core.frame.DataFrame'>\n",
      "RangeIndex: 1853 entries, 0 to 1852\n",
      "Data columns (total 4 columns):\n",
      " #   Column           Non-Null Count  Dtype\n",
      "---  ------           --------------  -----\n",
      " 0   id               1853 non-null   int64\n",
      " 1   user_id_trustor  1853 non-null   int64\n",
      " 2   user_id_trustee  1853 non-null   int64\n",
      " 3   trust_value      1853 non-null   int64\n",
      "dtypes: int64(4)\n",
      "memory usage: 58.0 KB\n"
     ]
    }
   ],
   "source": [
    "df_trust.info()"
   ]
  },
  {
   "cell_type": "code",
   "execution_count": 91,
   "id": "2cee0dbf",
   "metadata": {},
   "outputs": [
    {
     "data": {
      "application/vnd.microsoft.datawrangler.viewer.v0+json": {
       "columns": [
        {
         "name": "index",
         "rawType": "object",
         "type": "string"
        },
        {
         "name": "id",
         "rawType": "float64",
         "type": "float"
        },
        {
         "name": "user_id",
         "rawType": "float64",
         "type": "float"
        },
        {
         "name": "item_id",
         "rawType": "float64",
         "type": "float"
        },
        {
         "name": "label",
         "rawType": "float64",
         "type": "float"
        }
       ],
       "conversionMethod": "pd.DataFrame",
       "ref": "4d25cdd6-70da-4b62-99f8-939f72e61cf5",
       "rows": [
        [
         "count",
         "34298.0",
         "34298.0",
         "34298.0",
         "34298.0"
        ],
        [
         "mean",
         "17149.5",
         "764.0023033413026",
         "266.1934515132078",
         "3.0062977433086475"
        ],
        [
         "std",
         "9901.12410284812",
         "427.022738351543",
         "349.84937655266174",
         "0.9157060912171603"
        ],
        [
         "min",
         "1.0",
         "1.0",
         "1.0",
         "0.5"
        ],
        [
         "25%",
         "8575.25",
         "398.0",
         "12.0",
         "2.5"
        ],
        [
         "50%",
         "17149.5",
         "761.0",
         "216.0",
         "3.0"
        ],
        [
         "75%",
         "25723.75",
         "1142.0",
         "251.0",
         "4.0"
        ],
        [
         "max",
         "34298.0",
         "1508.0",
         "2071.0",
         "4.0"
        ]
       ],
       "shape": {
        "columns": 4,
        "rows": 8
       }
      },
      "text/html": [
       "<div>\n",
       "<style scoped>\n",
       "    .dataframe tbody tr th:only-of-type {\n",
       "        vertical-align: middle;\n",
       "    }\n",
       "\n",
       "    .dataframe tbody tr th {\n",
       "        vertical-align: top;\n",
       "    }\n",
       "\n",
       "    .dataframe thead th {\n",
       "        text-align: right;\n",
       "    }\n",
       "</style>\n",
       "<table border=\"1\" class=\"dataframe\">\n",
       "  <thead>\n",
       "    <tr style=\"text-align: right;\">\n",
       "      <th></th>\n",
       "      <th>id</th>\n",
       "      <th>user_id</th>\n",
       "      <th>item_id</th>\n",
       "      <th>label</th>\n",
       "    </tr>\n",
       "  </thead>\n",
       "  <tbody>\n",
       "    <tr>\n",
       "      <th>count</th>\n",
       "      <td>34298.000000</td>\n",
       "      <td>34298.000000</td>\n",
       "      <td>34298.000000</td>\n",
       "      <td>34298.000000</td>\n",
       "    </tr>\n",
       "    <tr>\n",
       "      <th>mean</th>\n",
       "      <td>17149.500000</td>\n",
       "      <td>764.002303</td>\n",
       "      <td>266.193452</td>\n",
       "      <td>3.006298</td>\n",
       "    </tr>\n",
       "    <tr>\n",
       "      <th>std</th>\n",
       "      <td>9901.124103</td>\n",
       "      <td>427.022738</td>\n",
       "      <td>349.849377</td>\n",
       "      <td>0.915706</td>\n",
       "    </tr>\n",
       "    <tr>\n",
       "      <th>min</th>\n",
       "      <td>1.000000</td>\n",
       "      <td>1.000000</td>\n",
       "      <td>1.000000</td>\n",
       "      <td>0.500000</td>\n",
       "    </tr>\n",
       "    <tr>\n",
       "      <th>25%</th>\n",
       "      <td>8575.250000</td>\n",
       "      <td>398.000000</td>\n",
       "      <td>12.000000</td>\n",
       "      <td>2.500000</td>\n",
       "    </tr>\n",
       "    <tr>\n",
       "      <th>50%</th>\n",
       "      <td>17149.500000</td>\n",
       "      <td>761.000000</td>\n",
       "      <td>216.000000</td>\n",
       "      <td>3.000000</td>\n",
       "    </tr>\n",
       "    <tr>\n",
       "      <th>75%</th>\n",
       "      <td>25723.750000</td>\n",
       "      <td>1142.000000</td>\n",
       "      <td>251.000000</td>\n",
       "      <td>4.000000</td>\n",
       "    </tr>\n",
       "    <tr>\n",
       "      <th>max</th>\n",
       "      <td>34298.000000</td>\n",
       "      <td>1508.000000</td>\n",
       "      <td>2071.000000</td>\n",
       "      <td>4.000000</td>\n",
       "    </tr>\n",
       "  </tbody>\n",
       "</table>\n",
       "</div>"
      ],
      "text/plain": [
       "                 id       user_id       item_id         label\n",
       "count  34298.000000  34298.000000  34298.000000  34298.000000\n",
       "mean   17149.500000    764.002303    266.193452      3.006298\n",
       "std     9901.124103    427.022738    349.849377      0.915706\n",
       "min        1.000000      1.000000      1.000000      0.500000\n",
       "25%     8575.250000    398.000000     12.000000      2.500000\n",
       "50%    17149.500000    761.000000    216.000000      3.000000\n",
       "75%    25723.750000   1142.000000    251.000000      4.000000\n",
       "max    34298.000000   1508.000000   2071.000000      4.000000"
      ]
     },
     "execution_count": 91,
     "metadata": {},
     "output_type": "execute_result"
    }
   ],
   "source": [
    "df_rate.describe()"
   ]
  },
  {
   "cell_type": "code",
   "execution_count": 92,
   "id": "fac84451",
   "metadata": {},
   "outputs": [
    {
     "data": {
      "application/vnd.microsoft.datawrangler.viewer.v0+json": {
       "columns": [
        {
         "name": "index",
         "rawType": "object",
         "type": "string"
        },
        {
         "name": "id",
         "rawType": "float64",
         "type": "float"
        },
        {
         "name": "user_id_trustor",
         "rawType": "float64",
         "type": "float"
        },
        {
         "name": "user_id_trustee",
         "rawType": "float64",
         "type": "float"
        },
        {
         "name": "trust_value",
         "rawType": "float64",
         "type": "float"
        }
       ],
       "conversionMethod": "pd.DataFrame",
       "ref": "fd725bef-83e0-49bb-8135-998b8b230430",
       "rows": [
        [
         "count",
         "1853.0",
         "1853.0",
         "1853.0",
         "1853.0"
        ],
        [
         "mean",
         "927.0",
         "775.4376686454398",
         "782.1921208850513",
         "1.0"
        ],
        [
         "std",
         "535.0593425032405",
         "447.73653572939554",
         "471.6146255983526",
         "0.0"
        ],
        [
         "min",
         "1.0",
         "2.0",
         "2.0",
         "1.0"
        ],
        [
         "25%",
         "464.0",
         "410.0",
         "395.0",
         "1.0"
        ],
        [
         "50%",
         "927.0",
         "752.0",
         "716.0",
         "1.0"
        ],
        [
         "75%",
         "1390.0",
         "1160.0",
         "1187.0",
         "1.0"
        ],
        [
         "max",
         "1853.0",
         "1641.0",
         "1642.0",
         "1.0"
        ]
       ],
       "shape": {
        "columns": 4,
        "rows": 8
       }
      },
      "text/html": [
       "<div>\n",
       "<style scoped>\n",
       "    .dataframe tbody tr th:only-of-type {\n",
       "        vertical-align: middle;\n",
       "    }\n",
       "\n",
       "    .dataframe tbody tr th {\n",
       "        vertical-align: top;\n",
       "    }\n",
       "\n",
       "    .dataframe thead th {\n",
       "        text-align: right;\n",
       "    }\n",
       "</style>\n",
       "<table border=\"1\" class=\"dataframe\">\n",
       "  <thead>\n",
       "    <tr style=\"text-align: right;\">\n",
       "      <th></th>\n",
       "      <th>id</th>\n",
       "      <th>user_id_trustor</th>\n",
       "      <th>user_id_trustee</th>\n",
       "      <th>trust_value</th>\n",
       "    </tr>\n",
       "  </thead>\n",
       "  <tbody>\n",
       "    <tr>\n",
       "      <th>count</th>\n",
       "      <td>1853.000000</td>\n",
       "      <td>1853.000000</td>\n",
       "      <td>1853.000000</td>\n",
       "      <td>1853.0</td>\n",
       "    </tr>\n",
       "    <tr>\n",
       "      <th>mean</th>\n",
       "      <td>927.000000</td>\n",
       "      <td>775.437669</td>\n",
       "      <td>782.192121</td>\n",
       "      <td>1.0</td>\n",
       "    </tr>\n",
       "    <tr>\n",
       "      <th>std</th>\n",
       "      <td>535.059343</td>\n",
       "      <td>447.736536</td>\n",
       "      <td>471.614626</td>\n",
       "      <td>0.0</td>\n",
       "    </tr>\n",
       "    <tr>\n",
       "      <th>min</th>\n",
       "      <td>1.000000</td>\n",
       "      <td>2.000000</td>\n",
       "      <td>2.000000</td>\n",
       "      <td>1.0</td>\n",
       "    </tr>\n",
       "    <tr>\n",
       "      <th>25%</th>\n",
       "      <td>464.000000</td>\n",
       "      <td>410.000000</td>\n",
       "      <td>395.000000</td>\n",
       "      <td>1.0</td>\n",
       "    </tr>\n",
       "    <tr>\n",
       "      <th>50%</th>\n",
       "      <td>927.000000</td>\n",
       "      <td>752.000000</td>\n",
       "      <td>716.000000</td>\n",
       "      <td>1.0</td>\n",
       "    </tr>\n",
       "    <tr>\n",
       "      <th>75%</th>\n",
       "      <td>1390.000000</td>\n",
       "      <td>1160.000000</td>\n",
       "      <td>1187.000000</td>\n",
       "      <td>1.0</td>\n",
       "    </tr>\n",
       "    <tr>\n",
       "      <th>max</th>\n",
       "      <td>1853.000000</td>\n",
       "      <td>1641.000000</td>\n",
       "      <td>1642.000000</td>\n",
       "      <td>1.0</td>\n",
       "    </tr>\n",
       "  </tbody>\n",
       "</table>\n",
       "</div>"
      ],
      "text/plain": [
       "                id  user_id_trustor  user_id_trustee  trust_value\n",
       "count  1853.000000      1853.000000      1853.000000       1853.0\n",
       "mean    927.000000       775.437669       782.192121          1.0\n",
       "std     535.059343       447.736536       471.614626          0.0\n",
       "min       1.000000         2.000000         2.000000          1.0\n",
       "25%     464.000000       410.000000       395.000000          1.0\n",
       "50%     927.000000       752.000000       716.000000          1.0\n",
       "75%    1390.000000      1160.000000      1187.000000          1.0\n",
       "max    1853.000000      1641.000000      1642.000000          1.0"
      ]
     },
     "execution_count": 92,
     "metadata": {},
     "output_type": "execute_result"
    }
   ],
   "source": [
    "df_trust.describe()"
   ]
  },
  {
   "cell_type": "code",
   "execution_count": 93,
   "id": "3fc2c35d",
   "metadata": {},
   "outputs": [
    {
     "data": {
      "application/vnd.microsoft.datawrangler.viewer.v0+json": {
       "columns": [
        {
         "name": "index",
         "rawType": "int64",
         "type": "integer"
        },
        {
         "name": "id",
         "rawType": "int64",
         "type": "integer"
        },
        {
         "name": "user_id_trustor",
         "rawType": "int64",
         "type": "integer"
        },
        {
         "name": "user_id_trustee",
         "rawType": "int64",
         "type": "integer"
        },
        {
         "name": "trust_value",
         "rawType": "int64",
         "type": "integer"
        }
       ],
       "conversionMethod": "pd.DataFrame",
       "ref": "23f94dcf-cead-4ecb-b413-7664ea6c526b",
       "rows": [
        [
         "0",
         "1",
         "2",
         "966",
         "1"
        ],
        [
         "1",
         "2",
         "2",
         "104",
         "1"
        ],
        [
         "2",
         "3",
         "5",
         "1509",
         "1"
        ],
        [
         "3",
         "4",
         "6",
         "1192",
         "1"
        ],
        [
         "4",
         "5",
         "7",
         "1510",
         "1"
        ]
       ],
       "shape": {
        "columns": 4,
        "rows": 5
       }
      },
      "text/html": [
       "<div>\n",
       "<style scoped>\n",
       "    .dataframe tbody tr th:only-of-type {\n",
       "        vertical-align: middle;\n",
       "    }\n",
       "\n",
       "    .dataframe tbody tr th {\n",
       "        vertical-align: top;\n",
       "    }\n",
       "\n",
       "    .dataframe thead th {\n",
       "        text-align: right;\n",
       "    }\n",
       "</style>\n",
       "<table border=\"1\" class=\"dataframe\">\n",
       "  <thead>\n",
       "    <tr style=\"text-align: right;\">\n",
       "      <th></th>\n",
       "      <th>id</th>\n",
       "      <th>user_id_trustor</th>\n",
       "      <th>user_id_trustee</th>\n",
       "      <th>trust_value</th>\n",
       "    </tr>\n",
       "  </thead>\n",
       "  <tbody>\n",
       "    <tr>\n",
       "      <th>0</th>\n",
       "      <td>1</td>\n",
       "      <td>2</td>\n",
       "      <td>966</td>\n",
       "      <td>1</td>\n",
       "    </tr>\n",
       "    <tr>\n",
       "      <th>1</th>\n",
       "      <td>2</td>\n",
       "      <td>2</td>\n",
       "      <td>104</td>\n",
       "      <td>1</td>\n",
       "    </tr>\n",
       "    <tr>\n",
       "      <th>2</th>\n",
       "      <td>3</td>\n",
       "      <td>5</td>\n",
       "      <td>1509</td>\n",
       "      <td>1</td>\n",
       "    </tr>\n",
       "    <tr>\n",
       "      <th>3</th>\n",
       "      <td>4</td>\n",
       "      <td>6</td>\n",
       "      <td>1192</td>\n",
       "      <td>1</td>\n",
       "    </tr>\n",
       "    <tr>\n",
       "      <th>4</th>\n",
       "      <td>5</td>\n",
       "      <td>7</td>\n",
       "      <td>1510</td>\n",
       "      <td>1</td>\n",
       "    </tr>\n",
       "  </tbody>\n",
       "</table>\n",
       "</div>"
      ],
      "text/plain": [
       "   id  user_id_trustor  user_id_trustee  trust_value\n",
       "0   1                2              966            1\n",
       "1   2                2              104            1\n",
       "2   3                5             1509            1\n",
       "3   4                6             1192            1\n",
       "4   5                7             1510            1"
      ]
     },
     "execution_count": 93,
     "metadata": {},
     "output_type": "execute_result"
    }
   ],
   "source": [
    "df_trust.head()"
   ]
  },
  {
   "cell_type": "code",
   "execution_count": 94,
   "id": "85fe19f0",
   "metadata": {},
   "outputs": [
    {
     "data": {
      "application/vnd.microsoft.datawrangler.viewer.v0+json": {
       "columns": [
        {
         "name": "index",
         "rawType": "int64",
         "type": "integer"
        },
        {
         "name": "id",
         "rawType": "int64",
         "type": "integer"
        },
        {
         "name": "user_id",
         "rawType": "int64",
         "type": "integer"
        },
        {
         "name": "item_id",
         "rawType": "int64",
         "type": "integer"
        },
        {
         "name": "label",
         "rawType": "float64",
         "type": "float"
        }
       ],
       "conversionMethod": "pd.DataFrame",
       "ref": "81d0c12d-3878-44c5-b7ff-bdf7cfe8a065",
       "rows": [
        [
         "0",
         "1",
         "1",
         "1",
         "2.0"
        ],
        [
         "1",
         "2",
         "1",
         "2",
         "4.0"
        ],
        [
         "2",
         "3",
         "1",
         "3",
         "3.5"
        ],
        [
         "3",
         "4",
         "1",
         "4",
         "3.0"
        ],
        [
         "4",
         "5",
         "1",
         "5",
         "4.0"
        ]
       ],
       "shape": {
        "columns": 4,
        "rows": 5
       }
      },
      "text/html": [
       "<div>\n",
       "<style scoped>\n",
       "    .dataframe tbody tr th:only-of-type {\n",
       "        vertical-align: middle;\n",
       "    }\n",
       "\n",
       "    .dataframe tbody tr th {\n",
       "        vertical-align: top;\n",
       "    }\n",
       "\n",
       "    .dataframe thead th {\n",
       "        text-align: right;\n",
       "    }\n",
       "</style>\n",
       "<table border=\"1\" class=\"dataframe\">\n",
       "  <thead>\n",
       "    <tr style=\"text-align: right;\">\n",
       "      <th></th>\n",
       "      <th>id</th>\n",
       "      <th>user_id</th>\n",
       "      <th>item_id</th>\n",
       "      <th>label</th>\n",
       "    </tr>\n",
       "  </thead>\n",
       "  <tbody>\n",
       "    <tr>\n",
       "      <th>0</th>\n",
       "      <td>1</td>\n",
       "      <td>1</td>\n",
       "      <td>1</td>\n",
       "      <td>2.0</td>\n",
       "    </tr>\n",
       "    <tr>\n",
       "      <th>1</th>\n",
       "      <td>2</td>\n",
       "      <td>1</td>\n",
       "      <td>2</td>\n",
       "      <td>4.0</td>\n",
       "    </tr>\n",
       "    <tr>\n",
       "      <th>2</th>\n",
       "      <td>3</td>\n",
       "      <td>1</td>\n",
       "      <td>3</td>\n",
       "      <td>3.5</td>\n",
       "    </tr>\n",
       "    <tr>\n",
       "      <th>3</th>\n",
       "      <td>4</td>\n",
       "      <td>1</td>\n",
       "      <td>4</td>\n",
       "      <td>3.0</td>\n",
       "    </tr>\n",
       "    <tr>\n",
       "      <th>4</th>\n",
       "      <td>5</td>\n",
       "      <td>1</td>\n",
       "      <td>5</td>\n",
       "      <td>4.0</td>\n",
       "    </tr>\n",
       "  </tbody>\n",
       "</table>\n",
       "</div>"
      ],
      "text/plain": [
       "   id  user_id  item_id  label\n",
       "0   1        1        1    2.0\n",
       "1   2        1        2    4.0\n",
       "2   3        1        3    3.5\n",
       "3   4        1        4    3.0\n",
       "4   5        1        5    4.0"
      ]
     },
     "execution_count": 94,
     "metadata": {},
     "output_type": "execute_result"
    }
   ],
   "source": [
    "df_rate.head()"
   ]
  },
  {
   "cell_type": "code",
   "execution_count": 95,
   "id": "0416d4f6",
   "metadata": {},
   "outputs": [
    {
     "data": {
      "text/plain": [
       "id           int64\n",
       "user_id      int64\n",
       "item_id      int64\n",
       "label      float64\n",
       "dtype: object"
      ]
     },
     "execution_count": 95,
     "metadata": {},
     "output_type": "execute_result"
    }
   ],
   "source": [
    "df_rate.dtypes"
   ]
  },
  {
   "cell_type": "code",
   "execution_count": 96,
   "id": "4f2b590a",
   "metadata": {},
   "outputs": [
    {
     "data": {
      "text/plain": [
       "id                 int64\n",
       "user_id_trustor    int64\n",
       "user_id_trustee    int64\n",
       "trust_value        int64\n",
       "dtype: object"
      ]
     },
     "execution_count": 96,
     "metadata": {},
     "output_type": "execute_result"
    }
   ],
   "source": [
    "df_trust.dtypes"
   ]
  },
  {
   "cell_type": "code",
   "execution_count": 97,
   "id": "7138cdde",
   "metadata": {},
   "outputs": [
    {
     "name": "stdout",
     "output_type": "stream",
     "text": [
      "id\n",
      "id\n",
      "False    34298\n",
      "Name: count, dtype: int64\n",
      "\n",
      "user_id\n",
      "user_id\n",
      "False    34298\n",
      "Name: count, dtype: int64\n",
      "\n",
      "item_id\n",
      "item_id\n",
      "False    34298\n",
      "Name: count, dtype: int64\n",
      "\n",
      "label\n",
      "label\n",
      "False    34298\n",
      "Name: count, dtype: int64\n",
      "\n"
     ]
    }
   ],
   "source": [
    "missing_data_rate = df_rate.isnull()\n",
    "for column in missing_data_rate.columns.values.tolist():\n",
    "    print(column)\n",
    "    print (missing_data_rate[column].value_counts())\n",
    "    print(\"\")    "
   ]
  },
  {
   "cell_type": "code",
   "execution_count": 98,
   "id": "b9460f92",
   "metadata": {},
   "outputs": [
    {
     "name": "stdout",
     "output_type": "stream",
     "text": [
      "id\n",
      "id\n",
      "False    1853\n",
      "Name: count, dtype: int64\n",
      "\n",
      "user_id_trustor\n",
      "user_id_trustor\n",
      "False    1853\n",
      "Name: count, dtype: int64\n",
      "\n",
      "user_id_trustee\n",
      "user_id_trustee\n",
      "False    1853\n",
      "Name: count, dtype: int64\n",
      "\n",
      "trust_value\n",
      "trust_value\n",
      "False    1853\n",
      "Name: count, dtype: int64\n",
      "\n"
     ]
    }
   ],
   "source": [
    "missing_data_trust = df_trust.isnull()\n",
    "for column in missing_data_trust.columns.values.tolist():\n",
    "    print(column)\n",
    "    print (missing_data_trust[column].value_counts())\n",
    "    print(\"\")    "
   ]
  },
  {
   "cell_type": "markdown",
   "id": "4367ad47",
   "metadata": {},
   "source": [
    "As we can see, there is no null value in any of the dataframes so there is no need to handle any missing values."
   ]
  },
  {
   "cell_type": "code",
   "execution_count": 99,
   "id": "17061483",
   "metadata": {},
   "outputs": [
    {
     "data": {
      "text/plain": [
       "trust_value\n",
       "1    1853\n",
       "Name: count, dtype: int64"
      ]
     },
     "execution_count": 99,
     "metadata": {},
     "output_type": "execute_result"
    }
   ],
   "source": [
    "df_trust[\"trust_value\"].value_counts()"
   ]
  },
  {
   "cell_type": "markdown",
   "id": "344d133c",
   "metadata": {},
   "source": [
    "All the trust values are 1 in the trust dataframe."
   ]
  },
  {
   "cell_type": "markdown",
   "id": "2cdb0b85",
   "metadata": {},
   "source": [
    "Now we will do some visualization to get better insight of the data."
   ]
  },
  {
   "cell_type": "markdown",
   "id": "c3faa2f7",
   "metadata": {},
   "source": [
    "Below iis the Rating-Frequency plot that shows the frequency of different ranges of ratings as histogram:"
   ]
  },
  {
   "cell_type": "code",
   "execution_count": 100,
   "id": "353899df",
   "metadata": {},
   "outputs": [
    {
     "data": {
      "image/png": "[encoded data removed]",
      "text/plain": [
       "<Figure size 1000x500 with 1 Axes>"
      ]
     },
     "metadata": {},
     "output_type": "display_data"
    }
   ],
   "source": [
    "plt.figure(figsize=(10,5))\n",
    "df_rate[\"label\"].hist(bins=8)\n",
    "plt.title(\"Ratings Distribution\")\n",
    "plt.xlabel(\"Rating\")\n",
    "plt.ylabel(\"Frequency\")\n",
    "plt.tight_layout()\n",
    "plt.show()"
   ]
  },
  {
   "cell_type": "markdown",
   "id": "f46d5476",
   "metadata": {},
   "source": [
    "Below plot shows the number of ratings per user:"
   ]
  },
  {
   "cell_type": "code",
   "execution_count": 101,
   "id": "370c2ea9",
   "metadata": {},
   "outputs": [
    {
     "data": {
      "image/png": "[encoded data removed]",
      "text/plain": [
       "<Figure size 1000x500 with 1 Axes>"
      ]
     },
     "metadata": {},
     "output_type": "display_data"
    }
   ],
   "source": [
    "plt.figure(figsize=(10,5))\n",
    "df_rate.groupby(\"user_id\").size().hist(bins=80)\n",
    "plt.title(\"Number of Ratings per User\")\n",
    "plt.xlabel(\"user id\")\n",
    "plt.ylabel(\"Number of rates\")\n",
    "plt.tight_layout()\n",
    "plt.show()"
   ]
  },
  {
   "cell_type": "markdown",
   "id": "ccd68133",
   "metadata": {},
   "source": [
    "Below is the number of submitted ratings per movie:"
   ]
  },
  {
   "cell_type": "code",
   "execution_count": 102,
   "id": "8df8962a",
   "metadata": {},
   "outputs": [
    {
     "data": {
      "image/png": "[encoded data removed]",
      "text/plain": [
       "<Figure size 1000x500 with 1 Axes>"
      ]
     },
     "metadata": {},
     "output_type": "display_data"
    }
   ],
   "source": [
    "plt.figure(figsize=(10,5))\n",
    "df_rate.groupby(\"item_id\").size().hist(bins=70)\n",
    "plt.title(\"Number of Submitted Ratings per Movie\")\n",
    "plt.xlabel(\"Movie Id\")\n",
    "plt.ylabel(\"Number of movies\")\n",
    "plt.yscale(\"log\")\n",
    "plt.tight_layout()\n",
    "plt.show()"
   ]
  },
  {
   "cell_type": "markdown",
   "id": "2f67d8d5",
   "metadata": {},
   "source": [
    "For the final plot, below is the number of trustees pre trustor:"
   ]
  },
  {
   "cell_type": "code",
   "execution_count": 103,
   "id": "0487617b",
   "metadata": {},
   "outputs": [
    {
     "data": {
      "image/png": "[encoded data removed]",
      "text/plain": [
       "<Figure size 1000x500 with 1 Axes>"
      ]
     },
     "metadata": {},
     "output_type": "display_data"
    }
   ],
   "source": [
    "plt.figure(figsize=(10,5))\n",
    "df_trust.groupby(\"user_id_trustor\").size().hist(bins=60)\n",
    "plt.title(\"Number of trustees pre trustor\")\n",
    "plt.xlabel(\"Trustor\")\n",
    "plt.ylabel(\"Number of trustees\")\n",
    "plt.yscale(\"log\")\n",
    "plt.tight_layout()\n",
    "plt.show()"
   ]
  },
  {
   "cell_type": "markdown",
   "id": "c51af669",
   "metadata": {},
   "source": [
    "Also we will plot the correlation plot. By examining the correlation plot, we can identify which features are highly correlated with each other. This information can guide feature selection, preprocessing, and fianl model for our task."
   ]
  },
  {
   "cell_type": "code",
   "execution_count": 104,
   "id": "4c406aea",
   "metadata": {},
   "outputs": [
    {
     "data": {
      "image/png": "[encoded data removed]",
      "text/plain": [
       "<Figure size 1000x500 with 2 Axes>"
      ]
     },
     "metadata": {},
     "output_type": "display_data"
    }
   ],
   "source": [
    "plt.figure(figsize=(10, 5))\n",
    "\n",
    "sns.heatmap(df_rate.corr(), annot=True, fmt='.2f', cmap='Pastel2', linewidths=2)\n",
    " \n",
    "plt.title('Correlation Heatmap for rate dataframe')\n",
    "plt.show()"
   ]
  },
  {
   "cell_type": "markdown",
   "id": "78367023",
   "metadata": {},
   "source": [
    "### Data Preprocessing and Feature Engineering"
   ]
  },
  {
   "cell_type": "markdown",
   "id": "9b0d2450",
   "metadata": {},
   "source": [
    "First, we drop the duplicate values from the datasets:"
   ]
  },
  {
   "cell_type": "code",
   "execution_count": 105,
   "id": "e97864fd",
   "metadata": {},
   "outputs": [],
   "source": [
    "df_rate = df_rate.drop_duplicates(subset=['user_id', 'item_id'])\n",
    "df_trust = df_trust.drop_duplicates(subset=['user_id_trustor', 'user_id_trustee'])"
   ]
  },
  {
   "cell_type": "markdown",
   "id": "066798dc",
   "metadata": {},
   "source": [
    "Then we will store min and max ratings that defines the valid range for predictions and is used to configure the Surprise library (for Reader). Also we prepare data for giving to our model using \"Reader\" and \"Dataset\" classes from Surprise library because Surprise requires data in this specific structure to train its models(like SVD that I used in this project)."
   ]
  },
  {
   "cell_type": "code",
   "execution_count": 106,
   "id": "d36cd331",
   "metadata": {},
   "outputs": [
    {
     "name": "stdout",
     "output_type": "stream",
     "text": [
      "Rating Range: 0.5 to 4.0\n"
     ]
    }
   ],
   "source": [
    "min_rating, max_rating = df_rate['label'].min(), df_rate['label'].max()\n",
    "print(f\"Rating Range: {min_rating} to {max_rating}\")\n",
    "\n",
    "reader = Reader(rating_scale=(min_rating, max_rating))\n",
    "data = Dataset.load_from_df(df_rate[['user_id', 'item_id', 'label']], reader)"
   ]
  },
  {
   "cell_type": "markdown",
   "id": "9e871bdb",
   "metadata": {},
   "source": [
    "Then we will do the feature engineering. In trust dataframe, we have trustor and trustee columns and from these, we can build a directed graph that the weights of them are trust_value which we saw in EDA part that all of the values are 1. We will use it in the future for our model that is matrix factorization."
   ]
  },
  {
   "cell_type": "code",
   "execution_count": 107,
   "id": "4de5a70b",
   "metadata": {},
   "outputs": [],
   "source": [
    "G = nx.DiGraph()\n",
    "for _, row in df_trust.iterrows():\n",
    "    G.add_edge(row['user_id_trustor'], row['user_id_trustee'], weight=row['trust_value'])"
   ]
  },
  {
   "cell_type": "markdown",
   "id": "116d2867",
   "metadata": {},
   "source": [
    "Now we will write a function that for a user and movie, calculate a rating based on the ratings of trusted users (neighbors in the graph). It works as follows:\n",
    "1. If the user isn’t in the graph or has no trusted neighbors, it will return global mean for the rating.\n",
    "2. Then it will Compute a weighted average of their ratings, where weights are trust values with below formula:\n",
    "\n",
    "   $$\\text{TrustRating} = \\frac{\\sum \\text{TrustWeight} * Rating}{\\sum \\text{TrustWeight}}$$\n",
    "\n",
    "3. Finally, if no neighbors rated the movie, it returns the global mean rating.\n",
    "\n",
    "In short, trust dataset can help us for predictions. If a user hasn’t rated many movies, the ratings of people they trust can help estimate their preferences.\n",
    "\n",
    "At last, I have calculated the global mean for rating in the dtaset and also the average rating for each item for future use."
   ]
  },
  {
   "cell_type": "code",
   "execution_count": 108,
   "id": "f96f1333",
   "metadata": {},
   "outputs": [],
   "source": [
    "def get_trust_weighted_rating(user_id, item_id, G, ratings_df, mean):\n",
    "    if user_id not in G:\n",
    "        return mean\n",
    "    neighbors = list(G.successors(user_id))\n",
    "    if not neighbors:\n",
    "        return mean\n",
    "    neighbor_ratings = ratings_df[ratings_df['user_id'].isin(neighbors) & (ratings_df['item_id'] == item_id)]\n",
    "    if neighbor_ratings.empty:\n",
    "        return mean\n",
    "    weighted_sum = 0\n",
    "    weight_total = 0\n",
    "    for temp, row in neighbor_ratings.iterrows():\n",
    "        neighbor = row['user_id']\n",
    "        rating = row['label']\n",
    "        trust_weight = G[user_id][neighbor]['weight']\n",
    "        weighted_sum += trust_weight * rating\n",
    "        weight_total += trust_weight\n",
    "    return weighted_sum / weight_total if weight_total > 0 else mean\n",
    "\n",
    "global_mean = df_rate['label'].mean()\n",
    "item_avg = df_rate.groupby('item_id')['label'].mean().to_dict()"
   ]
  },
  {
   "cell_type": "markdown",
   "id": "559db06a",
   "metadata": {},
   "source": [
    "### Model Developement"
   ]
  },
  {
   "cell_type": "markdown",
   "id": "06c46e2b",
   "metadata": {},
   "source": [
    "I have used SVD algorithm from Surprise library for the model. SVD is a matrix factorization technique that decomposes the user-item rating matrix into lower-dimensional matrices, capturing latent factors that explain the observed ratings. Matrix factorization is a class of collaborative filtering algorithms used in recommender systems. The idea behind matrix factorization is to represent users and items in a lower dimensional latent space. The latent features can capture the underlying structure of the data, allowing for better recommendations.\n",
    "\n",
    "Actually, It breaks the user-movie rating matrix into:\n",
    "1. User factors (preferences)\n",
    "2. Item factors (movie characteristics)\n",
    "\n",
    "and then it predicts the ratings by calculating dot product of these two matrices. The SVD algorithm learns these factors from the data, allowing it to make predictions for unseen user-item pairs."
   ]
  },
  {
   "cell_type": "markdown",
   "id": "d94a83ca",
   "metadata": {},
   "source": [
    "For hyperparameter tuning, I have used GridSearchCV from Surprise library. It is a powerful tool for hyperparameter tuning in machine learning models. It systematically explores a specified parameter grid and evaluates the model's performance using cross-validation. This helps in finding the best combination of hyperparameters that yield the highest performance metric (here I used RMSE) on the validation set. Below are the hyperparameters of SVD that I have tuned:\n",
    "- n_factors: Number of latent factors to use in the matrix factorization. More factors can capture more complex patterns but may lead to overfitting.\n",
    "- n_epochs: Number of iterations for the optimization algorithm. More epochs can lead to better convergence but may increase training time.\n",
    "- lr_all: Learning rate for the optimization algorithm. A higher learning rate can speed up convergence but may lead to overfitting.\n",
    "- reg_all: Regularization term to prevent overfitting. Higher values can help control overfitting but may lead to underfitting.\n",
    "\n",
    "In GridSearchCV, for each combination, it doesn’t just train and test once. Instead, it uses cross-validation to evaluate how well the model performs. Cross-validation splits our data into multiple subsets (called folds)."
   ]
  },
  {
   "cell_type": "code",
   "execution_count": 109,
   "id": "41a57e4b",
   "metadata": {},
   "outputs": [
    {
     "name": "stdout",
     "output_type": "stream",
     "text": [
      "Best RMSE: 0.79229\n",
      "Best Parameters: {'n_factors': 150, 'n_epochs': 14, 'lr_all': 0.02, 'reg_all': 0.1}\n"
     ]
    }
   ],
   "source": [
    "# param_grid = {\n",
    "#     'n_factors': [50, 100, 150],\n",
    "#     'n_epochs': [20, 30],\n",
    "#     'lr_all': [0.005, 0.01],\n",
    "#     'reg_all': [0.02, 0.1]\n",
    "# }\n",
    "\n",
    "# param_grid = {\n",
    "#     'n_factors': [50, 100, 150],\n",
    "#     'n_epochs': [20],\n",
    "#     'lr_all': [0.005, 0.01],\n",
    "#     'reg_all': [0.02, 0.1]\n",
    "# }\n",
    "\n",
    "# best\n",
    "param_grid = {\n",
    "    'n_factors': [50, 100, 150],\n",
    "    'n_epochs': [14],\n",
    "    'lr_all': [0.005, 0.02],\n",
    "    'reg_all': [0.02, 0.1]\n",
    "}\n",
    "\n",
    "\n",
    "\n",
    "\n",
    "gs = GridSearchCV(SVD, param_grid, measures=['rmse'], cv=5, n_jobs=-1)\n",
    "gs.fit(data)\n",
    "\n",
    "print(f\"Best RMSE: {gs.best_score['rmse']:.5f}\")\n",
    "print(f\"Best Parameters: {gs.best_params['rmse']}\")"
   ]
  },
  {
   "cell_type": "markdown",
   "id": "b5f230b0",
   "metadata": {},
   "source": [
    "After finding the best hyperparameters, the parameters for best model found in grid search is stored in gs.best_params. The best model is saved in best_svd and then the entire dataset is trained on this model."
   ]
  },
  {
   "cell_type": "code",
   "execution_count": 110,
   "id": "85585681",
   "metadata": {},
   "outputs": [
    {
     "data": {
      "text/plain": [
       "<surprise.prediction_algorithms.matrix_factorization.SVD at 0x7f4d82101910>"
      ]
     },
     "execution_count": 110,
     "metadata": {},
     "output_type": "execute_result"
    }
   ],
   "source": [
    "best_svd = SVD(**gs.best_params['rmse'], random_state=42)\n",
    "train_set = data.build_full_trainset()\n",
    "best_svd.fit(train_set)"
   ]
  },
  {
   "cell_type": "markdown",
   "id": "32b0115d",
   "metadata": {},
   "source": [
    "Also we wiil split our data into train and validation to see the evaluation metrics for our best model that we found using GridSearchCV:"
   ]
  },
  {
   "cell_type": "code",
   "execution_count": 111,
   "id": "37745f60",
   "metadata": {},
   "outputs": [
    {
     "name": "stdout",
     "output_type": "stream",
     "text": [
      "MSE: 0.41867\n",
      "RMSE: 0.64705\n",
      "MAE: 0.49854\n",
      "R²: 0.51414\n"
     ]
    }
   ],
   "source": [
    "train_df, val_df = train_test_split(df_rate, test_size=0.2, random_state=42)\n",
    "train_data = Dataset.load_from_df(train_df[['user_id', 'item_id', 'label']], reader)\n",
    "trainset = train_data.build_full_trainset()\n",
    "\n",
    "val_predictions = [best_svd.predict(row['user_id'], row['item_id']).est for _, row in val_df.iterrows()]\n",
    "val_actual = val_df['label'].tolist()\n",
    "\n",
    "mse = mean_squared_error(val_actual, val_predictions)\n",
    "rmse = np.sqrt(mse)\n",
    "mae = mean_absolute_error(val_actual, val_predictions)\n",
    "r2 = r2_score(val_actual, val_predictions)\n",
    "\n",
    "print(f\"MSE: {mse:.5f}\")\n",
    "print(f\"RMSE: {rmse:.5f}\")\n",
    "print(f\"MAE: {mae:.5f}\")\n",
    "print(f\"R²: {r2:.5f}\")"
   ]
  },
  {
   "cell_type": "markdown",
   "id": "aa401edd",
   "metadata": {},
   "source": [
    "### Evaluation"
   ]
  },
  {
   "cell_type": "markdown",
   "id": "57491fbd",
   "metadata": {},
   "source": [
    "For the last part, it is time to evaluate the model on the test set. Here, I have combined both SVD and trust which satisfies both user-movie patterns (SVD) and social relationships (trust). In fact, SVD prediction estimates a rating based on learned factors and trust prediction estimates a rating from trusted neighbors and the mixture of these two can enhance the prediction. Also I have handled the case that the user_id or the item_id in the test set is not in the train set."
   ]
  },
  {
   "cell_type": "code",
   "execution_count": 112,
   "id": "1dc16802",
   "metadata": {},
   "outputs": [
    {
     "name": "stdout",
     "output_type": "stream",
     "text": [
      "Submission file created successfully!\n"
     ]
    }
   ],
   "source": [
    "test_predictions = []\n",
    "for _, row in df_test.iterrows():\n",
    "    user_id = row['user_id']\n",
    "    item_id = row['item_id']\n",
    "    svd_pred = best_svd.predict(user_id, item_id).est\n",
    "    trust_pred = get_trust_weighted_rating(user_id, item_id, G, df_rate, global_mean)\n",
    "    pred = 0.8 * svd_pred + 0.2 * trust_pred\n",
    "    if user_id not in train_set._raw2inner_id_users:\n",
    "        if item_id in item_avg:\n",
    "            pred = item_avg[item_id] \n",
    "        else:\n",
    "            pred = global_mean  \n",
    "    elif item_id not in train_set._raw2inner_id_items:\n",
    "        pred = global_mean  \n",
    "    test_predictions.append(np.clip(pred, min_rating, max_rating))\n",
    "\n",
    "submission = pd.DataFrame({\n",
    "    'id': df_test['id'],\n",
    "    'label': test_predictions\n",
    "})\n",
    "submission.to_csv('submission.csv', index=False)\n",
    "print(\"Submission file created successfully!\")"
   ]
  }
 ],
 "metadata": {
  "kernelspec": {
   "display_name": "base",
   "language": "python",
   "name": "python3"
  },
  "language_info": {
   "codemirror_mode": {
    "name": "ipython",
    "version": 3
   },
   "file_extension": ".py",
   "mimetype": "text/x-python",
   "name": "python",
   "nbconvert_exporter": "python",
   "pygments_lexer": "ipython3",
   "version": "3.12.2"
  }
 },
 "nbformat": 4,
 "nbformat_minor": 5
}
