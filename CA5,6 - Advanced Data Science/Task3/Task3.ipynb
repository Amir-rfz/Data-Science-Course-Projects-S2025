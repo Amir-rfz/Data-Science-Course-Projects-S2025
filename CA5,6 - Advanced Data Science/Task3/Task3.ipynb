{
  "nbformat": 4,
  "nbformat_minor": 0,
  "metadata": {
    "colab": {
      "provenance": [],
      "gpuType": "T4"
    },
    "kernelspec": {
      "name": "python3",
      "display_name": "Python 3"
    },
    "language_info": {
      "name": "python"
    },
    "widgets": {
      "application/vnd.jupyter.widget-state+json": {
        "043fe6e235b343968b082e9cc065146b": {
          "model_module": "@jupyter-widgets/controls",
          "model_name": "HBoxModel",
          "model_module_version": "1.5.0",
          "state": {
            "_dom_classes": [],
            "_model_module": "@jupyter-widgets/controls",
            "_model_module_version": "1.5.0",
            "_model_name": "HBoxModel",
            "_view_count": null,
            "_view_module": "@jupyter-widgets/controls",
            "_view_module_version": "1.5.0",
            "_view_name": "HBoxView",
            "box_style": "",
            "children": [
              "IPY_MODEL_fbb7ce3dcb0942369bf833565d50eaaa",
              "IPY_MODEL_3d8eb17d809d466d8cce9bbe60f40fa7",
              "IPY_MODEL_fbf4242b81954f9da6510b64af08a485"
            ],
            "layout": "IPY_MODEL_a497740754c945b2a6b2d3fa2cb53197"
          }
        },
        "fbb7ce3dcb0942369bf833565d50eaaa": {
          "model_module": "@jupyter-widgets/controls",
          "model_name": "HTMLModel",
          "model_module_version": "1.5.0",
          "state": {
            "_dom_classes": [],
            "_model_module": "@jupyter-widgets/controls",
            "_model_module_version": "1.5.0",
            "_model_name": "HTMLModel",
            "_view_count": null,
            "_view_module": "@jupyter-widgets/controls",
            "_view_module_version": "1.5.0",
            "_view_name": "HTMLView",
            "description": "",
            "description_tooltip": null,
            "layout": "IPY_MODEL_a53d4cdde5eb48d2b76f6964436f5c97",
            "placeholder": "​",
            "style": "IPY_MODEL_76fb1dd9dfd847e3b7ec6584a414ecf9",
            "value": "Map: 100%"
          }
        },
        "3d8eb17d809d466d8cce9bbe60f40fa7": {
          "model_module": "@jupyter-widgets/controls",
          "model_name": "FloatProgressModel",
          "model_module_version": "1.5.0",
          "state": {
            "_dom_classes": [],
            "_model_module": "@jupyter-widgets/controls",
            "_model_module_version": "1.5.0",
            "_model_name": "FloatProgressModel",
            "_view_count": null,
            "_view_module": "@jupyter-widgets/controls",
            "_view_module_version": "1.5.0",
            "_view_name": "ProgressView",
            "bar_style": "success",
            "description": "",
            "description_tooltip": null,
            "layout": "IPY_MODEL_b3e6c31e88394693b17c411557a533bf",
            "max": 73546,
            "min": 0,
            "orientation": "horizontal",
            "style": "IPY_MODEL_58d77f6c37fd488aaaf13a065200f77e",
            "value": 73546
          }
        },
        "fbf4242b81954f9da6510b64af08a485": {
          "model_module": "@jupyter-widgets/controls",
          "model_name": "HTMLModel",
          "model_module_version": "1.5.0",
          "state": {
            "_dom_classes": [],
            "_model_module": "@jupyter-widgets/controls",
            "_model_module_version": "1.5.0",
            "_model_name": "HTMLModel",
            "_view_count": null,
            "_view_module": "@jupyter-widgets/controls",
            "_view_module_version": "1.5.0",
            "_view_name": "HTMLView",
            "description": "",
            "description_tooltip": null,
            "layout": "IPY_MODEL_6ab03f95b0d8439fb0ea359c4ad1f27f",
            "placeholder": "​",
            "style": "IPY_MODEL_1ce223ba83c5487db8df3201b440fe88",
            "value": " 73546/73546 [00:45&lt;00:00, 1180.26 examples/s]"
          }
        },
        "a497740754c945b2a6b2d3fa2cb53197": {
          "model_module": "@jupyter-widgets/base",
          "model_name": "LayoutModel",
          "model_module_version": "1.2.0",
          "state": {
            "_model_module": "@jupyter-widgets/base",
            "_model_module_version": "1.2.0",
            "_model_name": "LayoutModel",
            "_view_count": null,
            "_view_module": "@jupyter-widgets/base",
            "_view_module_version": "1.2.0",
            "_view_name": "LayoutView",
            "align_content": null,
            "align_items": null,
            "align_self": null,
            "border": null,
            "bottom": null,
            "display": null,
            "flex": null,
            "flex_flow": null,
            "grid_area": null,
            "grid_auto_columns": null,
            "grid_auto_flow": null,
            "grid_auto_rows": null,
            "grid_column": null,
            "grid_gap": null,
            "grid_row": null,
            "grid_template_areas": null,
            "grid_template_columns": null,
            "grid_template_rows": null,
            "height": null,
            "justify_content": null,
            "justify_items": null,
            "left": null,
            "margin": null,
            "max_height": null,
            "max_width": null,
            "min_height": null,
            "min_width": null,
            "object_fit": null,
            "object_position": null,
            "order": null,
            "overflow": null,
            "overflow_x": null,
            "overflow_y": null,
            "padding": null,
            "right": null,
            "top": null,
            "visibility": null,
            "width": null
          }
        },
        "a53d4cdde5eb48d2b76f6964436f5c97": {
          "model_module": "@jupyter-widgets/base",
          "model_name": "LayoutModel",
          "model_module_version": "1.2.0",
          "state": {
            "_model_module": "@jupyter-widgets/base",
            "_model_module_version": "1.2.0",
            "_model_name": "LayoutModel",
            "_view_count": null,
            "_view_module": "@jupyter-widgets/base",
            "_view_module_version": "1.2.0",
            "_view_name": "LayoutView",
            "align_content": null,
            "align_items": null,
            "align_self": null,
            "border": null,
            "bottom": null,
            "display": null,
            "flex": null,
            "flex_flow": null,
            "grid_area": null,
            "grid_auto_columns": null,
            "grid_auto_flow": null,
            "grid_auto_rows": null,
            "grid_column": null,
            "grid_gap": null,
            "grid_row": null,
            "grid_template_areas": null,
            "grid_template_columns": null,
            "grid_template_rows": null,
            "height": null,
            "justify_content": null,
            "justify_items": null,
            "left": null,
            "margin": null,
            "max_height": null,
            "max_width": null,
            "min_height": null,
            "min_width": null,
            "object_fit": null,
            "object_position": null,
            "order": null,
            "overflow": null,
            "overflow_x": null,
            "overflow_y": null,
            "padding": null,
            "right": null,
            "top": null,
            "visibility": null,
            "width": null
          }
        },
        "76fb1dd9dfd847e3b7ec6584a414ecf9": {
          "model_module": "@jupyter-widgets/controls",
          "model_name": "DescriptionStyleModel",
          "model_module_version": "1.5.0",
          "state": {
            "_model_module": "@jupyter-widgets/controls",
            "_model_module_version": "1.5.0",
            "_model_name": "DescriptionStyleModel",
            "_view_count": null,
            "_view_module": "@jupyter-widgets/base",
            "_view_module_version": "1.2.0",
            "_view_name": "StyleView",
            "description_width": ""
          }
        },
        "b3e6c31e88394693b17c411557a533bf": {
          "model_module": "@jupyter-widgets/base",
          "model_name": "LayoutModel",
          "model_module_version": "1.2.0",
          "state": {
            "_model_module": "@jupyter-widgets/base",
            "_model_module_version": "1.2.0",
            "_model_name": "LayoutModel",
            "_view_count": null,
            "_view_module": "@jupyter-widgets/base",
            "_view_module_version": "1.2.0",
            "_view_name": "LayoutView",
            "align_content": null,
            "align_items": null,
            "align_self": null,
            "border": null,
            "bottom": null,
            "display": null,
            "flex": null,
            "flex_flow": null,
            "grid_area": null,
            "grid_auto_columns": null,
            "grid_auto_flow": null,
            "grid_auto_rows": null,
            "grid_column": null,
            "grid_gap": null,
            "grid_row": null,
            "grid_template_areas": null,
            "grid_template_columns": null,
            "grid_template_rows": null,
            "height": null,
            "justify_content": null,
            "justify_items": null,
            "left": null,
            "margin": null,
            "max_height": null,
            "max_width": null,
            "min_height": null,
            "min_width": null,
            "object_fit": null,
            "object_position": null,
            "order": null,
            "overflow": null,
            "overflow_x": null,
            "overflow_y": null,
            "padding": null,
            "right": null,
            "top": null,
            "visibility": null,
            "width": null
          }
        },
        "58d77f6c37fd488aaaf13a065200f77e": {
          "model_module": "@jupyter-widgets/controls",
          "model_name": "ProgressStyleModel",
          "model_module_version": "1.5.0",
          "state": {
            "_model_module": "@jupyter-widgets/controls",
            "_model_module_version": "1.5.0",
            "_model_name": "ProgressStyleModel",
            "_view_count": null,
            "_view_module": "@jupyter-widgets/base",
            "_view_module_version": "1.2.0",
            "_view_name": "StyleView",
            "bar_color": null,
            "description_width": ""
          }
        },
        "6ab03f95b0d8439fb0ea359c4ad1f27f": {
          "model_module": "@jupyter-widgets/base",
          "model_name": "LayoutModel",
          "model_module_version": "1.2.0",
          "state": {
            "_model_module": "@jupyter-widgets/base",
            "_model_module_version": "1.2.0",
            "_model_name": "LayoutModel",
            "_view_count": null,
            "_view_module": "@jupyter-widgets/base",
            "_view_module_version": "1.2.0",
            "_view_name": "LayoutView",
            "align_content": null,
            "align_items": null,
            "align_self": null,
            "border": null,
            "bottom": null,
            "display": null,
            "flex": null,
            "flex_flow": null,
            "grid_area": null,
            "grid_auto_columns": null,
            "grid_auto_flow": null,
            "grid_auto_rows": null,
            "grid_column": null,
            "grid_gap": null,
            "grid_row": null,
            "grid_template_areas": null,
            "grid_template_columns": null,
            "grid_template_rows": null,
            "height": null,
            "justify_content": null,
            "justify_items": null,
            "left": null,
            "margin": null,
            "max_height": null,
            "max_width": null,
            "min_height": null,
            "min_width": null,
            "object_fit": null,
            "object_position": null,
            "order": null,
            "overflow": null,
            "overflow_x": null,
            "overflow_y": null,
            "padding": null,
            "right": null,
            "top": null,
            "visibility": null,
            "width": null
          }
        },
        "1ce223ba83c5487db8df3201b440fe88": {
          "model_module": "@jupyter-widgets/controls",
          "model_name": "DescriptionStyleModel",
          "model_module_version": "1.5.0",
          "state": {
            "_model_module": "@jupyter-widgets/controls",
            "_model_module_version": "1.5.0",
            "_model_name": "DescriptionStyleModel",
            "_view_count": null,
            "_view_module": "@jupyter-widgets/base",
            "_view_module_version": "1.2.0",
            "_view_name": "StyleView",
            "description_width": ""
          }
        },
        "ddbea966bcd740cf96ea4511d255dcd3": {
          "model_module": "@jupyter-widgets/controls",
          "model_name": "HBoxModel",
          "model_module_version": "1.5.0",
          "state": {
            "_dom_classes": [],
            "_model_module": "@jupyter-widgets/controls",
            "_model_module_version": "1.5.0",
            "_model_name": "HBoxModel",
            "_view_count": null,
            "_view_module": "@jupyter-widgets/controls",
            "_view_module_version": "1.5.0",
            "_view_name": "HBoxView",
            "box_style": "",
            "children": [
              "IPY_MODEL_c7eb5b33b2b749a1ace366ec8e3b34e0",
              "IPY_MODEL_8ae351d2ec5e4d4ab7bcac38ad0a3a3a",
              "IPY_MODEL_0d5657ccee304d92aa5ca2c3664e0fa1"
            ],
            "layout": "IPY_MODEL_3a3c87df923640a79f1e6079b2ff1865"
          }
        },
        "c7eb5b33b2b749a1ace366ec8e3b34e0": {
          "model_module": "@jupyter-widgets/controls",
          "model_name": "HTMLModel",
          "model_module_version": "1.5.0",
          "state": {
            "_dom_classes": [],
            "_model_module": "@jupyter-widgets/controls",
            "_model_module_version": "1.5.0",
            "_model_name": "HTMLModel",
            "_view_count": null,
            "_view_module": "@jupyter-widgets/controls",
            "_view_module_version": "1.5.0",
            "_view_name": "HTMLView",
            "description": "",
            "description_tooltip": null,
            "layout": "IPY_MODEL_595d5c43378049419d447d0361e0631a",
            "placeholder": "​",
            "style": "IPY_MODEL_49f9f26c193c42a8806b353c469557b1",
            "value": "Map: 100%"
          }
        },
        "8ae351d2ec5e4d4ab7bcac38ad0a3a3a": {
          "model_module": "@jupyter-widgets/controls",
          "model_name": "FloatProgressModel",
          "model_module_version": "1.5.0",
          "state": {
            "_dom_classes": [],
            "_model_module": "@jupyter-widgets/controls",
            "_model_module_version": "1.5.0",
            "_model_name": "FloatProgressModel",
            "_view_count": null,
            "_view_module": "@jupyter-widgets/controls",
            "_view_module_version": "1.5.0",
            "_view_name": "ProgressView",
            "bar_style": "success",
            "description": "",
            "description_tooltip": null,
            "layout": "IPY_MODEL_6b634c3b744f409e959136043c1c86ea",
            "max": 20006,
            "min": 0,
            "orientation": "horizontal",
            "style": "IPY_MODEL_02b550e03ae24a8882faecdb52fa0b78",
            "value": 20006
          }
        },
        "0d5657ccee304d92aa5ca2c3664e0fa1": {
          "model_module": "@jupyter-widgets/controls",
          "model_name": "HTMLModel",
          "model_module_version": "1.5.0",
          "state": {
            "_dom_classes": [],
            "_model_module": "@jupyter-widgets/controls",
            "_model_module_version": "1.5.0",
            "_model_name": "HTMLModel",
            "_view_count": null,
            "_view_module": "@jupyter-widgets/controls",
            "_view_module_version": "1.5.0",
            "_view_name": "HTMLView",
            "description": "",
            "description_tooltip": null,
            "layout": "IPY_MODEL_4a3ece14d28e4c5abecb5fdb86da3f88",
            "placeholder": "​",
            "style": "IPY_MODEL_9b4f8c8a854348cba44543bd4a7a23b4",
            "value": " 20006/20006 [01:32&lt;00:00, 220.60 examples/s]"
          }
        },
        "3a3c87df923640a79f1e6079b2ff1865": {
          "model_module": "@jupyter-widgets/base",
          "model_name": "LayoutModel",
          "model_module_version": "1.2.0",
          "state": {
            "_model_module": "@jupyter-widgets/base",
            "_model_module_version": "1.2.0",
            "_model_name": "LayoutModel",
            "_view_count": null,
            "_view_module": "@jupyter-widgets/base",
            "_view_module_version": "1.2.0",
            "_view_name": "LayoutView",
            "align_content": null,
            "align_items": null,
            "align_self": null,
            "border": null,
            "bottom": null,
            "display": null,
            "flex": null,
            "flex_flow": null,
            "grid_area": null,
            "grid_auto_columns": null,
            "grid_auto_flow": null,
            "grid_auto_rows": null,
            "grid_column": null,
            "grid_gap": null,
            "grid_row": null,
            "grid_template_areas": null,
            "grid_template_columns": null,
            "grid_template_rows": null,
            "height": null,
            "justify_content": null,
            "justify_items": null,
            "left": null,
            "margin": null,
            "max_height": null,
            "max_width": null,
            "min_height": null,
            "min_width": null,
            "object_fit": null,
            "object_position": null,
            "order": null,
            "overflow": null,
            "overflow_x": null,
            "overflow_y": null,
            "padding": null,
            "right": null,
            "top": null,
            "visibility": null,
            "width": null
          }
        },
        "595d5c43378049419d447d0361e0631a": {
          "model_module": "@jupyter-widgets/base",
          "model_name": "LayoutModel",
          "model_module_version": "1.2.0",
          "state": {
            "_model_module": "@jupyter-widgets/base",
            "_model_module_version": "1.2.0",
            "_model_name": "LayoutModel",
            "_view_count": null,
            "_view_module": "@jupyter-widgets/base",
            "_view_module_version": "1.2.0",
            "_view_name": "LayoutView",
            "align_content": null,
            "align_items": null,
            "align_self": null,
            "border": null,
            "bottom": null,
            "display": null,
            "flex": null,
            "flex_flow": null,
            "grid_area": null,
            "grid_auto_columns": null,
            "grid_auto_flow": null,
            "grid_auto_rows": null,
            "grid_column": null,
            "grid_gap": null,
            "grid_row": null,
            "grid_template_areas": null,
            "grid_template_columns": null,
            "grid_template_rows": null,
            "height": null,
            "justify_content": null,
            "justify_items": null,
            "left": null,
            "margin": null,
            "max_height": null,
            "max_width": null,
            "min_height": null,
            "min_width": null,
            "object_fit": null,
            "object_position": null,
            "order": null,
            "overflow": null,
            "overflow_x": null,
            "overflow_y": null,
            "padding": null,
            "right": null,
            "top": null,
            "visibility": null,
            "width": null
          }
        },
        "49f9f26c193c42a8806b353c469557b1": {
          "model_module": "@jupyter-widgets/controls",
          "model_name": "DescriptionStyleModel",
          "model_module_version": "1.5.0",
          "state": {
            "_model_module": "@jupyter-widgets/controls",
            "_model_module_version": "1.5.0",
            "_model_name": "DescriptionStyleModel",
            "_view_count": null,
            "_view_module": "@jupyter-widgets/base",
            "_view_module_version": "1.2.0",
            "_view_name": "StyleView",
            "description_width": ""
          }
        },
        "6b634c3b744f409e959136043c1c86ea": {
          "model_module": "@jupyter-widgets/base",
          "model_name": "LayoutModel",
          "model_module_version": "1.2.0",
          "state": {
            "_model_module": "@jupyter-widgets/base",
            "_model_module_version": "1.2.0",
            "_model_name": "LayoutModel",
            "_view_count": null,
            "_view_module": "@jupyter-widgets/base",
            "_view_module_version": "1.2.0",
            "_view_name": "LayoutView",
            "align_content": null,
            "align_items": null,
            "align_self": null,
            "border": null,
            "bottom": null,
            "display": null,
            "flex": null,
            "flex_flow": null,
            "grid_area": null,
            "grid_auto_columns": null,
            "grid_auto_flow": null,
            "grid_auto_rows": null,
            "grid_column": null,
            "grid_gap": null,
            "grid_row": null,
            "grid_template_areas": null,
            "grid_template_columns": null,
            "grid_template_rows": null,
            "height": null,
            "justify_content": null,
            "justify_items": null,
            "left": null,
            "margin": null,
            "max_height": null,
            "max_width": null,
            "min_height": null,
            "min_width": null,
            "object_fit": null,
            "object_position": null,
            "order": null,
            "overflow": null,
            "overflow_x": null,
            "overflow_y": null,
            "padding": null,
            "right": null,
            "top": null,
            "visibility": null,
            "width": null
          }
        },
        "02b550e03ae24a8882faecdb52fa0b78": {
          "model_module": "@jupyter-widgets/controls",
          "model_name": "ProgressStyleModel",
          "model_module_version": "1.5.0",
          "state": {
            "_model_module": "@jupyter-widgets/controls",
            "_model_module_version": "1.5.0",
            "_model_name": "ProgressStyleModel",
            "_view_count": null,
            "_view_module": "@jupyter-widgets/base",
            "_view_module_version": "1.2.0",
            "_view_name": "StyleView",
            "bar_color": null,
            "description_width": ""
          }
        },
        "4a3ece14d28e4c5abecb5fdb86da3f88": {
          "model_module": "@jupyter-widgets/base",
          "model_name": "LayoutModel",
          "model_module_version": "1.2.0",
          "state": {
            "_model_module": "@jupyter-widgets/base",
            "_model_module_version": "1.2.0",
            "_model_name": "LayoutModel",
            "_view_count": null,
            "_view_module": "@jupyter-widgets/base",
            "_view_module_version": "1.2.0",
            "_view_name": "LayoutView",
            "align_content": null,
            "align_items": null,
            "align_self": null,
            "border": null,
            "bottom": null,
            "display": null,
            "flex": null,
            "flex_flow": null,
            "grid_area": null,
            "grid_auto_columns": null,
            "grid_auto_flow": null,
            "grid_auto_rows": null,
            "grid_column": null,
            "grid_gap": null,
            "grid_row": null,
            "grid_template_areas": null,
            "grid_template_columns": null,
            "grid_template_rows": null,
            "height": null,
            "justify_content": null,
            "justify_items": null,
            "left": null,
            "margin": null,
            "max_height": null,
            "max_width": null,
            "min_height": null,
            "min_width": null,
            "object_fit": null,
            "object_position": null,
            "order": null,
            "overflow": null,
            "overflow_x": null,
            "overflow_y": null,
            "padding": null,
            "right": null,
            "top": null,
            "visibility": null,
            "width": null
          }
        },
        "9b4f8c8a854348cba44543bd4a7a23b4": {
          "model_module": "@jupyter-widgets/controls",
          "model_name": "DescriptionStyleModel",
          "model_module_version": "1.5.0",
          "state": {
            "_model_module": "@jupyter-widgets/controls",
            "_model_module_version": "1.5.0",
            "_model_name": "DescriptionStyleModel",
            "_view_count": null,
            "_view_module": "@jupyter-widgets/base",
            "_view_module_version": "1.2.0",
            "_view_name": "StyleView",
            "description_width": ""
          }
        },
        "63844228e8464176969b58896d838fc1": {
          "model_module": "@jupyter-widgets/controls",
          "model_name": "HBoxModel",
          "model_module_version": "1.5.0",
          "state": {
            "_dom_classes": [],
            "_model_module": "@jupyter-widgets/controls",
            "_model_module_version": "1.5.0",
            "_model_name": "HBoxModel",
            "_view_count": null,
            "_view_module": "@jupyter-widgets/controls",
            "_view_module_version": "1.5.0",
            "_view_name": "HBoxView",
            "box_style": "",
            "children": [
              "IPY_MODEL_a26546bdd9fe4438816c854d2e632603",
              "IPY_MODEL_812b991989e74658971864508441c647",
              "IPY_MODEL_19d27b9ab31940069881ef119c2b2e88"
            ],
            "layout": "IPY_MODEL_30b5408038234a4aad6f3700676dddd6"
          }
        },
        "a26546bdd9fe4438816c854d2e632603": {
          "model_module": "@jupyter-widgets/controls",
          "model_name": "HTMLModel",
          "model_module_version": "1.5.0",
          "state": {
            "_dom_classes": [],
            "_model_module": "@jupyter-widgets/controls",
            "_model_module_version": "1.5.0",
            "_model_name": "HTMLModel",
            "_view_count": null,
            "_view_module": "@jupyter-widgets/controls",
            "_view_module_version": "1.5.0",
            "_view_name": "HTMLView",
            "description": "",
            "description_tooltip": null,
            "layout": "IPY_MODEL_9afc35034df247cf9903ff3fa647804d",
            "placeholder": "​",
            "style": "IPY_MODEL_b92c2408f4ac4ff59badef57021201b0",
            "value": "Map: 100%"
          }
        },
        "812b991989e74658971864508441c647": {
          "model_module": "@jupyter-widgets/controls",
          "model_name": "FloatProgressModel",
          "model_module_version": "1.5.0",
          "state": {
            "_dom_classes": [],
            "_model_module": "@jupyter-widgets/controls",
            "_model_module_version": "1.5.0",
            "_model_name": "FloatProgressModel",
            "_view_count": null,
            "_view_module": "@jupyter-widgets/controls",
            "_view_module_version": "1.5.0",
            "_view_name": "ProgressView",
            "bar_style": "success",
            "description": "",
            "description_tooltip": null,
            "layout": "IPY_MODEL_efdf9e69cb934922ab4db707882f24db",
            "max": 20006,
            "min": 0,
            "orientation": "horizontal",
            "style": "IPY_MODEL_e33f7ec0a265443290695065445955eb",
            "value": 20006
          }
        },
        "19d27b9ab31940069881ef119c2b2e88": {
          "model_module": "@jupyter-widgets/controls",
          "model_name": "HTMLModel",
          "model_module_version": "1.5.0",
          "state": {
            "_dom_classes": [],
            "_model_module": "@jupyter-widgets/controls",
            "_model_module_version": "1.5.0",
            "_model_name": "HTMLModel",
            "_view_count": null,
            "_view_module": "@jupyter-widgets/controls",
            "_view_module_version": "1.5.0",
            "_view_name": "HTMLView",
            "description": "",
            "description_tooltip": null,
            "layout": "IPY_MODEL_fae3c00a5782448bbc8265832af9bae0",
            "placeholder": "​",
            "style": "IPY_MODEL_83b07a3866bf46ea99548543718864cc",
            "value": " 20006/20006 [00:19&lt;00:00, 982.78 examples/s]"
          }
        },
        "30b5408038234a4aad6f3700676dddd6": {
          "model_module": "@jupyter-widgets/base",
          "model_name": "LayoutModel",
          "model_module_version": "1.2.0",
          "state": {
            "_model_module": "@jupyter-widgets/base",
            "_model_module_version": "1.2.0",
            "_model_name": "LayoutModel",
            "_view_count": null,
            "_view_module": "@jupyter-widgets/base",
            "_view_module_version": "1.2.0",
            "_view_name": "LayoutView",
            "align_content": null,
            "align_items": null,
            "align_self": null,
            "border": null,
            "bottom": null,
            "display": null,
            "flex": null,
            "flex_flow": null,
            "grid_area": null,
            "grid_auto_columns": null,
            "grid_auto_flow": null,
            "grid_auto_rows": null,
            "grid_column": null,
            "grid_gap": null,
            "grid_row": null,
            "grid_template_areas": null,
            "grid_template_columns": null,
            "grid_template_rows": null,
            "height": null,
            "justify_content": null,
            "justify_items": null,
            "left": null,
            "margin": null,
            "max_height": null,
            "max_width": null,
            "min_height": null,
            "min_width": null,
            "object_fit": null,
            "object_position": null,
            "order": null,
            "overflow": null,
            "overflow_x": null,
            "overflow_y": null,
            "padding": null,
            "right": null,
            "top": null,
            "visibility": null,
            "width": null
          }
        },
        "9afc35034df247cf9903ff3fa647804d": {
          "model_module": "@jupyter-widgets/base",
          "model_name": "LayoutModel",
          "model_module_version": "1.2.0",
          "state": {
            "_model_module": "@jupyter-widgets/base",
            "_model_module_version": "1.2.0",
            "_model_name": "LayoutModel",
            "_view_count": null,
            "_view_module": "@jupyter-widgets/base",
            "_view_module_version": "1.2.0",
            "_view_name": "LayoutView",
            "align_content": null,
            "align_items": null,
            "align_self": null,
            "border": null,
            "bottom": null,
            "display": null,
            "flex": null,
            "flex_flow": null,
            "grid_area": null,
            "grid_auto_columns": null,
            "grid_auto_flow": null,
            "grid_auto_rows": null,
            "grid_column": null,
            "grid_gap": null,
            "grid_row": null,
            "grid_template_areas": null,
            "grid_template_columns": null,
            "grid_template_rows": null,
            "height": null,
            "justify_content": null,
            "justify_items": null,
            "left": null,
            "margin": null,
            "max_height": null,
            "max_width": null,
            "min_height": null,
            "min_width": null,
            "object_fit": null,
            "object_position": null,
            "order": null,
            "overflow": null,
            "overflow_x": null,
            "overflow_y": null,
            "padding": null,
            "right": null,
            "top": null,
            "visibility": null,
            "width": null
          }
        },
        "b92c2408f4ac4ff59badef57021201b0": {
          "model_module": "@jupyter-widgets/controls",
          "model_name": "DescriptionStyleModel",
          "model_module_version": "1.5.0",
          "state": {
            "_model_module": "@jupyter-widgets/controls",
            "_model_module_version": "1.5.0",
            "_model_name": "DescriptionStyleModel",
            "_view_count": null,
            "_view_module": "@jupyter-widgets/base",
            "_view_module_version": "1.2.0",
            "_view_name": "StyleView",
            "description_width": ""
          }
        },
        "efdf9e69cb934922ab4db707882f24db": {
          "model_module": "@jupyter-widgets/base",
          "model_name": "LayoutModel",
          "model_module_version": "1.2.0",
          "state": {
            "_model_module": "@jupyter-widgets/base",
            "_model_module_version": "1.2.0",
            "_model_name": "LayoutModel",
            "_view_count": null,
            "_view_module": "@jupyter-widgets/base",
            "_view_module_version": "1.2.0",
            "_view_name": "LayoutView",
            "align_content": null,
            "align_items": null,
            "align_self": null,
            "border": null,
            "bottom": null,
            "display": null,
            "flex": null,
            "flex_flow": null,
            "grid_area": null,
            "grid_auto_columns": null,
            "grid_auto_flow": null,
            "grid_auto_rows": null,
            "grid_column": null,
            "grid_gap": null,
            "grid_row": null,
            "grid_template_areas": null,
            "grid_template_columns": null,
            "grid_template_rows": null,
            "height": null,
            "justify_content": null,
            "justify_items": null,
            "left": null,
            "margin": null,
            "max_height": null,
            "max_width": null,
            "min_height": null,
            "min_width": null,
            "object_fit": null,
            "object_position": null,
            "order": null,
            "overflow": null,
            "overflow_x": null,
            "overflow_y": null,
            "padding": null,
            "right": null,
            "top": null,
            "visibility": null,
            "width": null
          }
        },
        "e33f7ec0a265443290695065445955eb": {
          "model_module": "@jupyter-widgets/controls",
          "model_name": "ProgressStyleModel",
          "model_module_version": "1.5.0",
          "state": {
            "_model_module": "@jupyter-widgets/controls",
            "_model_module_version": "1.5.0",
            "_model_name": "ProgressStyleModel",
            "_view_count": null,
            "_view_module": "@jupyter-widgets/base",
            "_view_module_version": "1.2.0",
            "_view_name": "StyleView",
            "bar_color": null,
            "description_width": ""
          }
        },
        "fae3c00a5782448bbc8265832af9bae0": {
          "model_module": "@jupyter-widgets/base",
          "model_name": "LayoutModel",
          "model_module_version": "1.2.0",
          "state": {
            "_model_module": "@jupyter-widgets/base",
            "_model_module_version": "1.2.0",
            "_model_name": "LayoutModel",
            "_view_count": null,
            "_view_module": "@jupyter-widgets/base",
            "_view_module_version": "1.2.0",
            "_view_name": "LayoutView",
            "align_content": null,
            "align_items": null,
            "align_self": null,
            "border": null,
            "bottom": null,
            "display": null,
            "flex": null,
            "flex_flow": null,
            "grid_area": null,
            "grid_auto_columns": null,
            "grid_auto_flow": null,
            "grid_auto_rows": null,
            "grid_column": null,
            "grid_gap": null,
            "grid_row": null,
            "grid_template_areas": null,
            "grid_template_columns": null,
            "grid_template_rows": null,
            "height": null,
            "justify_content": null,
            "justify_items": null,
            "left": null,
            "margin": null,
            "max_height": null,
            "max_width": null,
            "min_height": null,
            "min_width": null,
            "object_fit": null,
            "object_position": null,
            "order": null,
            "overflow": null,
            "overflow_x": null,
            "overflow_y": null,
            "padding": null,
            "right": null,
            "top": null,
            "visibility": null,
            "width": null
          }
        },
        "83b07a3866bf46ea99548543718864cc": {
          "model_module": "@jupyter-widgets/controls",
          "model_name": "DescriptionStyleModel",
          "model_module_version": "1.5.0",
          "state": {
            "_model_module": "@jupyter-widgets/controls",
            "_model_module_version": "1.5.0",
            "_model_name": "DescriptionStyleModel",
            "_view_count": null,
            "_view_module": "@jupyter-widgets/base",
            "_view_module_version": "1.2.0",
            "_view_name": "StyleView",
            "description_width": ""
          }
        }
      }
    },
    "accelerator": "GPU"
  },
  "cells": [
    {
      "cell_type": "code",
      "source": [
        "%%capture\n",
        "!pip install evaluate scikit-learn"
      ],
      "metadata": {
        "id": "CBiTOgjUT3sN"
      },
      "execution_count": null,
      "outputs": []
    },
    {
      "cell_type": "markdown",
      "source": [
        "# LLM for MCQs"
      ],
      "metadata": {
        "id": "KI3DRtjOiuK0"
      }
    },
    {
      "cell_type": "markdown",
      "source": [
        "### Load Data"
      ],
      "metadata": {
        "id": "HiCVH5MTnJLE"
      }
    },
    {
      "cell_type": "code",
      "execution_count": null,
      "metadata": {
        "id": "ah3117TzidhV"
      },
      "outputs": [],
      "source": [
        "from datasets import load_dataset\n",
        "import pandas as pd\n",
        "import matplotlib.pyplot as plt\n",
        "import seaborn as sns\n",
        "from collections import Counter\n",
        "import numpy as np\n",
        "import random\n",
        "import itertools\n",
        "from transformers import AutoTokenizer, DataCollatorForMultipleChoice, AutoModelForMultipleChoice, TrainingArguments, Trainer\n",
        "from peft import LoraConfig, get_peft_model, TaskType, PeftModel\n",
        "import torch\n",
        "import evaluate\n",
        "from sklearn.metrics import confusion_matrix, classification_report, ConfusionMatrixDisplay\n",
        "import math\n",
        "from google.colab import drive\n",
        "from matplotlib.ticker import PercentFormatter"
      ]
    },
    {
      "cell_type": "code",
      "source": [
        "drive.mount('/content/drive')"
      ],
      "metadata": {
        "colab": {
          "base_uri": "https://localhost:8080/"
        },
        "id": "QB6lQLkbyGX_",
        "outputId": "14bcdad1-5ac6-4a94-c75b-45d7b9a2ff43"
      },
      "execution_count": null,
      "outputs": [
        {
          "output_type": "stream",
          "name": "stdout",
          "text": [
            "Drive already mounted at /content/drive; to attempt to forcibly remount, call drive.mount(\"/content/drive\", force_remount=True).\n"
          ]
        }
      ]
    },
    {
      "cell_type": "code",
      "source": [
        "ds = load_dataset(\"allenai/swag\")"
      ],
      "metadata": {
        "id": "AXvy__Kulib2"
      },
      "execution_count": null,
      "outputs": []
    },
    {
      "cell_type": "markdown",
      "source": [
        "### EDA"
      ],
      "metadata": {
        "id": "bYA_9hEAnMJ6"
      }
    },
    {
      "cell_type": "code",
      "source": [
        "ds"
      ],
      "metadata": {
        "colab": {
          "base_uri": "https://localhost:8080/"
        },
        "id": "R7xqFwZYlpoR",
        "outputId": "a3c30a17-ae20-47fe-c977-03f647e14558"
      },
      "execution_count": null,
      "outputs": [
        {
          "output_type": "execute_result",
          "data": {
            "text/plain": [
              "DatasetDict({\n",
              "    train: Dataset({\n",
              "        features: ['video-id', 'fold-ind', 'startphrase', 'sent1', 'sent2', 'gold-source', 'ending0', 'ending1', 'ending2', 'ending3', 'label'],\n",
              "        num_rows: 73546\n",
              "    })\n",
              "    validation: Dataset({\n",
              "        features: ['video-id', 'fold-ind', 'startphrase', 'sent1', 'sent2', 'gold-source', 'ending0', 'ending1', 'ending2', 'ending3', 'label'],\n",
              "        num_rows: 20006\n",
              "    })\n",
              "    test: Dataset({\n",
              "        features: ['video-id', 'fold-ind', 'startphrase', 'sent1', 'sent2', 'gold-source', 'ending0', 'ending1', 'ending2', 'ending3', 'label'],\n",
              "        num_rows: 20005\n",
              "    })\n",
              "})"
            ]
          },
          "metadata": {},
          "execution_count": 33
        }
      ]
    },
    {
      "cell_type": "code",
      "source": [
        "ds['train'][0]"
      ],
      "metadata": {
        "colab": {
          "base_uri": "https://localhost:8080/"
        },
        "id": "F_tw9N8WlsWC",
        "outputId": "83f86ef2-0106-4a9c-9b09-d75d4d18c3bd"
      },
      "execution_count": null,
      "outputs": [
        {
          "output_type": "execute_result",
          "data": {
            "text/plain": [
              "{'video-id': 'anetv_jkn6uvmqwh4',\n",
              " 'fold-ind': '3416',\n",
              " 'startphrase': 'Members of the procession walk down the street holding small horn brass instruments. A drum line',\n",
              " 'sent1': 'Members of the procession walk down the street holding small horn brass instruments.',\n",
              " 'sent2': 'A drum line',\n",
              " 'gold-source': 'gold',\n",
              " 'ending0': 'passes by walking down the street playing their instruments.',\n",
              " 'ending1': 'has heard approaching them.',\n",
              " 'ending2': \"arrives and they're outside dancing and asleep.\",\n",
              " 'ending3': 'turns the lead singer watches the performance.',\n",
              " 'label': 0}"
            ]
          },
          "metadata": {},
          "execution_count": 34
        }
      ]
    },
    {
      "cell_type": "code",
      "source": [
        "train = ds[\"train\"]\n",
        "val = ds[\"validation\"]\n",
        "test = ds[\"test\"]\n",
        "train.features"
      ],
      "metadata": {
        "colab": {
          "base_uri": "https://localhost:8080/"
        },
        "id": "gR7-2IaAnixv",
        "outputId": "07b0291c-c1a9-41ad-e384-d9401321e0ec"
      },
      "execution_count": null,
      "outputs": [
        {
          "output_type": "execute_result",
          "data": {
            "text/plain": [
              "{'video-id': Value('string'),\n",
              " 'fold-ind': Value('string'),\n",
              " 'startphrase': Value('string'),\n",
              " 'sent1': Value('string'),\n",
              " 'sent2': Value('string'),\n",
              " 'gold-source': Value('string'),\n",
              " 'ending0': Value('string'),\n",
              " 'ending1': Value('string'),\n",
              " 'ending2': Value('string'),\n",
              " 'ending3': Value('string'),\n",
              " 'label': ClassLabel(names=['0', '1', '2', '3'])}"
            ]
          },
          "metadata": {},
          "execution_count": 35
        }
      ]
    },
    {
      "cell_type": "code",
      "source": [
        "print({k: v.num_rows for k, v in ds.items()})"
      ],
      "metadata": {
        "colab": {
          "base_uri": "https://localhost:8080/"
        },
        "id": "a33DnoiGnrja",
        "outputId": "d6224837-82da-4506-f84b-b4b9e7511fd8"
      },
      "execution_count": null,
      "outputs": [
        {
          "output_type": "stream",
          "name": "stdout",
          "text": [
            "{'train': 73546, 'validation': 20006, 'test': 20005}\n"
          ]
        }
      ]
    },
    {
      "cell_type": "code",
      "source": [
        "label_counts = Counter(train[\"label\"])\n",
        "print(\"Label counts (train):\", label_counts)"
      ],
      "metadata": {
        "colab": {
          "base_uri": "https://localhost:8080/"
        },
        "id": "9f8Esjy0n4OO",
        "outputId": "ba20efe0-8f0f-473c-8644-a43030194987"
      },
      "execution_count": null,
      "outputs": [
        {
          "output_type": "stream",
          "name": "stdout",
          "text": [
            "Label counts (train): Counter({3: 18458, 0: 18414, 2: 18340, 1: 18334})\n"
          ]
        }
      ]
    },
    {
      "cell_type": "code",
      "source": [
        "labels = pd.Series(ds['train']['label'])\n",
        "plt.figure(figsize=(8, 5))\n",
        "sns.countplot(x=labels)\n",
        "plt.title('Distribution of Correct Answers (Labels) in Training Set')\n",
        "plt.xlabel('Label (Correct Ending)')\n",
        "plt.ylabel('Frequency')\n",
        "plt.show()"
      ],
      "metadata": {
        "colab": {
          "base_uri": "https://localhost:8080/",
          "height": 487
        },
        "id": "aO_bt6Ik52VR",
        "outputId": "6b34b846-5d20-4dae-b9d7-9b6bbdb13196"
      },
      "execution_count": null,
      "outputs": [
        {
          "output_type": "display_data",
          "data": {
            "text/plain": [
              "<Figure size 800x500 with 1 Axes>"
            ],
            "image/png": "[encoded data removed]"
          },
          "metadata": {}
        }
      ]
    },
    {
      "cell_type": "code",
      "source": [
        "def lens(ex):\n",
        "    main_script = (ex[\"sent1\"] + \" \" + ex[\"sent2\"]).strip()\n",
        "    return {\n",
        "        \"main_script_len\": len(main_script.split()),\n",
        "        \"e0_len\": len(ex[\"ending0\"].split()),\n",
        "        \"e1_len\": len(ex[\"ending1\"].split()),\n",
        "        \"e2_len\": len(ex[\"ending2\"].split()),\n",
        "        \"e3_len\": len(ex[\"ending3\"].split()),\n",
        "    }\n",
        "\n",
        "lengths = pd.DataFrame([lens(train[i]) for i in range(min(5000, len(train)))])\n",
        "print(lengths.describe().T[[\"mean\",\"std\",\"min\",\"max\"]])"
      ],
      "metadata": {
        "colab": {
          "base_uri": "https://localhost:8080/"
        },
        "id": "hurMpdesn97Z",
        "outputId": "b3adaf2b-4c6a-4155-ec71-5d0d2e53fe3c"
      },
      "execution_count": null,
      "outputs": [
        {
          "output_type": "stream",
          "name": "stdout",
          "text": [
            "                    mean       std  min   max\n",
            "main_script_len  13.9330  6.744598  4.0  87.0\n",
            "e0_len            8.6208  4.022368  2.0  25.0\n",
            "e1_len            8.6034  3.971456  1.0  25.0\n",
            "e2_len            8.6018  3.987683  2.0  25.0\n",
            "e3_len            8.5962  4.030831  1.0  25.0\n"
          ]
        }
      ]
    },
    {
      "cell_type": "code",
      "source": [
        "cols = [\"sent1\",\"sent2\",\"startphrase\",\"ending0\",\"ending1\",\"ending2\",\"ending3\"]\n",
        "empty_rate = {\n",
        "    c: float(np.mean([not bool((x or \"\").strip()) for x in train[c]]))\n",
        "    for c in cols\n",
        "}\n",
        "print(\"Empty string rate per column:\", empty_rate)"
      ],
      "metadata": {
        "colab": {
          "base_uri": "https://localhost:8080/"
        },
        "id": "VyWZlBN4oKZ3",
        "outputId": "ca6c51e3-7a8f-4cde-f514-54f0cd698e57"
      },
      "execution_count": null,
      "outputs": [
        {
          "output_type": "stream",
          "name": "stdout",
          "text": [
            "Empty string rate per column: {'sent1': 0.0, 'sent2': 0.0, 'startphrase': 0.0, 'ending0': 0.0, 'ending1': 0.0, 'ending2': 0.0, 'ending3': 0.0}\n"
          ]
        }
      ]
    },
    {
      "cell_type": "markdown",
      "source": [
        "### Preprocess"
      ],
      "metadata": {
        "id": "pUiqDqMtzZ9m"
      }
    },
    {
      "cell_type": "code",
      "source": [
        "model_id = \"google-bert/bert-base-uncased\"\n",
        "tokenizer = AutoTokenizer.from_pretrained(model_id)"
      ],
      "metadata": {
        "id": "c_F53KqI3wqg"
      },
      "execution_count": null,
      "outputs": []
    },
    {
      "cell_type": "code",
      "source": [
        "num_choices = 4\n",
        "ending_keys = [f\"ending{i}\" for i in range(num_choices)]\n",
        "max_length=128\n",
        "def preprocess(examples):\n",
        "    contexts, options = [], []\n",
        "    for s1, s2, *ends in zip(examples[\"sent1\"], examples[\"sent2\"], *[examples[k] for k in ending_keys]):\n",
        "        main_script = f\"{s1} {s2}\".strip()\n",
        "        for e in ends:\n",
        "            contexts.append(main_script)\n",
        "            options.append(e)\n",
        "\n",
        "    tokenized = tokenizer(\n",
        "        contexts,\n",
        "        options,\n",
        "        truncation=True,\n",
        "        max_length=max_length,\n",
        "        padding=False,\n",
        "    )\n",
        "\n",
        "    def chunk(lst, n):\n",
        "        return [lst[i:i+n] for i in range(0, len(lst), n)]\n",
        "    features = {k: chunk(v, num_choices) for k, v in tokenized.items()}\n",
        "    features[\"labels\"] = examples[\"label\"]\n",
        "    return features"
      ],
      "metadata": {
        "id": "ItfdIsHI4Gzo"
      },
      "execution_count": null,
      "outputs": []
    },
    {
      "cell_type": "code",
      "source": [
        "\n",
        "encoded_ds = ds.map(\n",
        "    preprocess,\n",
        "    batched=True,\n",
        "    remove_columns=ds[\"train\"].column_names\n",
        ")\n",
        "print(encoded_ds)"
      ],
      "metadata": {
        "colab": {
          "base_uri": "https://localhost:8080/",
          "height": 299,
          "referenced_widgets": [
            "043fe6e235b343968b082e9cc065146b",
            "fbb7ce3dcb0942369bf833565d50eaaa",
            "3d8eb17d809d466d8cce9bbe60f40fa7",
            "fbf4242b81954f9da6510b64af08a485",
            "a497740754c945b2a6b2d3fa2cb53197",
            "a53d4cdde5eb48d2b76f6964436f5c97",
            "76fb1dd9dfd847e3b7ec6584a414ecf9",
            "b3e6c31e88394693b17c411557a533bf",
            "58d77f6c37fd488aaaf13a065200f77e",
            "6ab03f95b0d8439fb0ea359c4ad1f27f",
            "1ce223ba83c5487db8df3201b440fe88"
          ]
        },
        "id": "82Zmi3BN4lqR",
        "outputId": "c20a28b7-61a1-48f8-cb42-ee405cb3fe3c"
      },
      "execution_count": null,
      "outputs": [
        {
          "output_type": "display_data",
          "data": {
            "text/plain": [
              "Map:   0%|          | 0/73546 [00:00<?, ? examples/s]"
            ],
            "application/vnd.jupyter.widget-view+json": {
              "version_major": 2,
              "version_minor": 0,
              "model_id": "043fe6e235b343968b082e9cc065146b"
            }
          },
          "metadata": {}
        },
        {
          "output_type": "stream",
          "name": "stdout",
          "text": [
            "DatasetDict({\n",
            "    train: Dataset({\n",
            "        features: ['input_ids', 'token_type_ids', 'attention_mask', 'labels'],\n",
            "        num_rows: 73546\n",
            "    })\n",
            "    validation: Dataset({\n",
            "        features: ['input_ids', 'token_type_ids', 'attention_mask', 'labels'],\n",
            "        num_rows: 20006\n",
            "    })\n",
            "    test: Dataset({\n",
            "        features: ['input_ids', 'token_type_ids', 'attention_mask', 'labels'],\n",
            "        num_rows: 20005\n",
            "    })\n",
            "})\n"
          ]
        }
      ]
    },
    {
      "cell_type": "code",
      "source": [
        "data_collator = DataCollatorForMultipleChoice(tokenizer=tokenizer, padding=\"longest\")"
      ],
      "metadata": {
        "id": "nCFmg-djEkcS"
      },
      "execution_count": null,
      "outputs": []
    },
    {
      "cell_type": "markdown",
      "source": [
        "### Load Model"
      ],
      "metadata": {
        "id": "kzbcjmB_Igft"
      }
    },
    {
      "cell_type": "code",
      "source": [
        "model = AutoModelForMultipleChoice.from_pretrained(model_id)"
      ],
      "metadata": {
        "colab": {
          "base_uri": "https://localhost:8080/"
        },
        "id": "Gp83UF90GVpW",
        "outputId": "a547d40d-2a88-40a9-94cd-7ac73b166e90"
      },
      "execution_count": null,
      "outputs": [
        {
          "output_type": "stream",
          "name": "stderr",
          "text": [
            "Some weights of BertForMultipleChoice were not initialized from the model checkpoint at google-bert/bert-base-uncased and are newly initialized: ['classifier.bias', 'classifier.weight']\n",
            "You should probably TRAIN this model on a down-stream task to be able to use it for predictions and inference.\n"
          ]
        }
      ]
    },
    {
      "cell_type": "markdown",
      "source": [
        "### Test the Model"
      ],
      "metadata": {
        "id": "OQSZVdGaLG-J"
      }
    },
    {
      "cell_type": "code",
      "source": [
        "device = \"cuda\" if torch.cuda.is_available() else \"cpu\"\n",
        "model.to(device)"
      ],
      "metadata": {
        "colab": {
          "base_uri": "https://localhost:8080/"
        },
        "id": "9MOPV0VwLinv",
        "outputId": "5c1ecca7-1ece-4088-fd70-d6488a85f545"
      },
      "execution_count": null,
      "outputs": [
        {
          "output_type": "execute_result",
          "data": {
            "text/plain": [
              "BertForMultipleChoice(\n",
              "  (bert): BertModel(\n",
              "    (embeddings): BertEmbeddings(\n",
              "      (word_embeddings): Embedding(30522, 768, padding_idx=0)\n",
              "      (position_embeddings): Embedding(512, 768)\n",
              "      (token_type_embeddings): Embedding(2, 768)\n",
              "      (LayerNorm): LayerNorm((768,), eps=1e-12, elementwise_affine=True)\n",
              "      (dropout): Dropout(p=0.1, inplace=False)\n",
              "    )\n",
              "    (encoder): BertEncoder(\n",
              "      (layer): ModuleList(\n",
              "        (0-11): 12 x BertLayer(\n",
              "          (attention): BertAttention(\n",
              "            (self): BertSdpaSelfAttention(\n",
              "              (query): Linear(in_features=768, out_features=768, bias=True)\n",
              "              (key): Linear(in_features=768, out_features=768, bias=True)\n",
              "              (value): Linear(in_features=768, out_features=768, bias=True)\n",
              "              (dropout): Dropout(p=0.1, inplace=False)\n",
              "            )\n",
              "            (output): BertSelfOutput(\n",
              "              (dense): Linear(in_features=768, out_features=768, bias=True)\n",
              "              (LayerNorm): LayerNorm((768,), eps=1e-12, elementwise_affine=True)\n",
              "              (dropout): Dropout(p=0.1, inplace=False)\n",
              "            )\n",
              "          )\n",
              "          (intermediate): BertIntermediate(\n",
              "            (dense): Linear(in_features=768, out_features=3072, bias=True)\n",
              "            (intermediate_act_fn): GELUActivation()\n",
              "          )\n",
              "          (output): BertOutput(\n",
              "            (dense): Linear(in_features=3072, out_features=768, bias=True)\n",
              "            (LayerNorm): LayerNorm((768,), eps=1e-12, elementwise_affine=True)\n",
              "            (dropout): Dropout(p=0.1, inplace=False)\n",
              "          )\n",
              "        )\n",
              "      )\n",
              "    )\n",
              "    (pooler): BertPooler(\n",
              "      (dense): Linear(in_features=768, out_features=768, bias=True)\n",
              "      (activation): Tanh()\n",
              "    )\n",
              "  )\n",
              "  (dropout): Dropout(p=0.1, inplace=False)\n",
              "  (classifier): Linear(in_features=768, out_features=1, bias=True)\n",
              ")"
            ]
          },
          "metadata": {},
          "execution_count": 50
        }
      ]
    },
    {
      "cell_type": "code",
      "source": [
        "idx = 5\n",
        "raw = ds[\"validation\"][idx]\n",
        "batch = data_collator([encoded_ds[\"validation\"][idx]])\n",
        "batch = {k: v.to(device) for k, v in batch.items() if k != \"labels\"}\n",
        "\n",
        "with torch.no_grad():\n",
        "    outputs = model(**batch)\n",
        "logits = outputs.logits.squeeze(0).cpu().numpy()\n",
        "probs = (np.exp(logits) / np.exp(logits).sum())\n",
        "pred = int(logits.argmax())\n",
        "gold = int(ds[\"validation\"][idx][\"label\"])\n",
        "print(\"\\n--- Single Example Analysis ---\")\n",
        "print(\"Context:\", raw[\"sent1\"], raw[\"sent2\"])\n",
        "for i in range(4):\n",
        "    print(f\"  ending{i}: {raw[f'ending{i}']}  |  probability = {probs[i]:.3f}\")\n",
        "print(f\"Predicted: {pred} | Gold: {gold} | Correct? {pred == gold}\")"
      ],
      "metadata": {
        "colab": {
          "base_uri": "https://localhost:8080/"
        },
        "id": "HxpF2sUAK2vq",
        "outputId": "b0e80856-e6d6-464f-a3c5-b860a40244b5"
      },
      "execution_count": null,
      "outputs": [
        {
          "output_type": "stream",
          "name": "stderr",
          "text": [
            "You're using a BertTokenizerFast tokenizer. Please note that with a fast tokenizer, using the `__call__` method is faster than using a method to encode the text followed by a call to the `pad` method to get a padded encoding.\n"
          ]
        },
        {
          "output_type": "stream",
          "name": "stdout",
          "text": [
            "\n",
            "--- Single Example Analysis ---\n",
            "Context: The man holds a pointy tool that uses to fix the handle of the bike. The man\n",
            "  ending0: takes out the cover of the handlebar and rise with the tool and spray liquid inside, then press the handle with his hand.  |  probability = 0.179\n",
            "  ending1: continues to take a bite of the bakes.  |  probability = 0.325\n",
            "  ending2: laughs and does little more flips.  |  probability = 0.286\n",
            "  ending3: looks down at the young man and stands next to a man dressed as a man stands on a sidewalk.  |  probability = 0.210\n",
            "Predicted: 1 | Gold: 0 | Correct? False\n"
          ]
        }
      ]
    },
    {
      "cell_type": "code",
      "source": [
        "acc = evaluate.load(\"accuracy\")\n",
        "f1 = evaluate.load(\"f1\")\n",
        "\n",
        "def _softmax(x, axis=-1):\n",
        "    x = x - x.max(axis=axis, keepdims=True)\n",
        "    e = np.exp(x)\n",
        "    return e / e.sum(axis=axis, keepdims=True)\n",
        "\n",
        "def compute_metrics(eval_pred):\n",
        "    logits, labels = eval_pred\n",
        "    preds = logits.argmax(axis=-1)\n",
        "    probs = _softmax(logits, axis=-1)\n",
        "\n",
        "    out = {\n",
        "        \"accuracy\": acc.compute(predictions=preds, references=labels)[\"accuracy\"],\n",
        "        \"f1_macro\": f1.compute(predictions=preds, references=labels, average=\"macro\")[\"f1\"],\n",
        "    }\n",
        "    return out"
      ],
      "metadata": {
        "id": "dMoE-gy6iHl-"
      },
      "execution_count": null,
      "outputs": []
    },
    {
      "cell_type": "code",
      "source": [
        "baseline_args = TrainingArguments(\n",
        "    output_dir = \"swag_baseline\",\n",
        "    per_device_eval_batch_size = 32,\n",
        "    dataloader_drop_last = False,\n",
        "    fp16 = True,\n",
        "    report_to = \"none\"\n",
        ")\n",
        "\n",
        "baseline_trainer = Trainer(\n",
        "    model = model,\n",
        "    args = baseline_args,\n",
        "    eval_dataset = encoded_ds[\"validation\"],\n",
        "    data_collator = data_collator,\n",
        "    tokenizer = tokenizer,\n",
        "    compute_metrics = compute_metrics,\n",
        ")"
      ],
      "metadata": {
        "colab": {
          "base_uri": "https://localhost:8080/"
        },
        "id": "DT1GPhZ3L5Eu",
        "outputId": "fdae7c39-0c13-434b-bb8f-5283237e8450"
      },
      "execution_count": null,
      "outputs": [
        {
          "output_type": "stream",
          "name": "stderr",
          "text": [
            "/tmp/ipython-input-2877027937.py:9: FutureWarning: `tokenizer` is deprecated and will be removed in version 5.0.0 for `Trainer.__init__`. Use `processing_class` instead.\n",
            "  baseline_trainer = Trainer(\n"
          ]
        }
      ]
    },
    {
      "cell_type": "code",
      "source": [
        "res_baseline = baseline_trainer.evaluate()"
      ],
      "metadata": {
        "colab": {
          "base_uri": "https://localhost:8080/",
          "height": 37
        },
        "id": "1nNxtqzih-Jo",
        "outputId": "58d754ce-8a1c-4ed4-8554-31b1ea0fed60"
      },
      "execution_count": null,
      "outputs": [
        {
          "output_type": "display_data",
          "data": {
            "text/plain": [
              "<IPython.core.display.HTML object>"
            ],
            "text/html": [
              "\n",
              "    <div>\n",
              "      \n",
              "      <progress value='626' max='626' style='width:300px; height:20px; vertical-align: middle;'></progress>\n",
              "      [626/626 01:10]\n",
              "    </div>\n",
              "    "
            ]
          },
          "metadata": {}
        }
      ]
    },
    {
      "cell_type": "code",
      "source": [
        "print(\"\\n--- Baseline Metrics ---\")\n",
        "print(f\"Accuracy: {res_baseline['eval_accuracy']:.3f}\")\n",
        "print(f\"F1-Macro: {res_baseline['eval_f1_macro']:.3f}\")"
      ],
      "metadata": {
        "id": "srkDwMBLipav",
        "colab": {
          "base_uri": "https://localhost:8080/"
        },
        "outputId": "49f63d96-3542-4394-86cd-820adb8494ac"
      },
      "execution_count": null,
      "outputs": [
        {
          "output_type": "stream",
          "name": "stdout",
          "text": [
            "\n",
            "--- Baseline Metrics ---\n",
            "Accuracy: 0.119\n",
            "F1-Macro: 0.119\n"
          ]
        }
      ]
    },
    {
      "cell_type": "markdown",
      "source": [
        "### In-Context Learning (ICL)"
      ],
      "metadata": {
        "id": "6GmgkEeeWOQa"
      }
    },
    {
      "cell_type": "code",
      "source": [
        "def make_preprocess_fn(tokenizer, max_length=128, prefix=\"\"):\n",
        "    num_choices = 4\n",
        "    ending_keys = [f\"ending{i}\" for i in range(num_choices)]\n",
        "    prefix = prefix.strip()\n",
        "    prefix_ = (prefix + \"\\n\\n\") if prefix else \"\"\n",
        "\n",
        "    def _preprocess(examples):\n",
        "        contexts, options = [], []\n",
        "        for s1, s2, *ends in zip(examples[\"sent1\"], examples[\"sent2\"], *[examples[k] for k in ending_keys]):\n",
        "            ctx = f\"{prefix_}Context: {s1} {s2}\".strip()\n",
        "            for e in ends:\n",
        "                contexts.append(ctx)\n",
        "                options.append(e)\n",
        "        tokenized = tokenizer(contexts, options, truncation=True, max_length=max_length, padding=False  )\n",
        "        def chunk(lst, n): return [lst[i:i+n] for i in range(0, len(lst), n)]\n",
        "        features = {k: chunk(v, num_choices) for k, v in tokenized.items()}\n",
        "        features[\"labels\"] = examples[\"label\"]\n",
        "        return features\n",
        "    return _preprocess"
      ],
      "metadata": {
        "id": "ApdQPvlVEc4j"
      },
      "execution_count": null,
      "outputs": []
    },
    {
      "cell_type": "code",
      "source": [
        "# ICL Few-shot\n",
        "LETTER = {0:\"A\", 1:\"B\", 2:\"C\", 3:\"D\"}\n",
        "def format_demo(ex):\n",
        "    ctx = f\"Context: {ex['sent1']} {ex['sent2']}\"\n",
        "    opts = \"\\n\".join([\n",
        "        f\"A) {ex['ending0']}\",\n",
        "        f\"B) {ex['ending1']}\",\n",
        "        f\"C) {ex['ending2']}\",\n",
        "        f\"D) {ex['ending3']}\",\n",
        "    ])\n",
        "    ans = LETTER[int(ex[\"label\"])]\n",
        "    return f\"{ctx}\\n{opts}\\nAnswer: {ans}\"\n",
        "\n",
        "def build_fewshot_prefix(train_split, k=4, seed=42):\n",
        "    rng = random.Random(seed)\n",
        "    idxs = rng.sample(range(len(train_split)), k)\n",
        "    demos = [format_demo(train_split[i]) for i in idxs]\n",
        "    instr = \"Task: Choose the most plausible continuation (A–D). Here are solved examples:\\n\\n\"\n",
        "    return instr + \"\\n\\n\".join(demos) + \"\\n\\nNow solve the next one.\"\n",
        "\n",
        "fewshot_prefix = build_fewshot_prefix(ds[\"train\"], k=4, seed=42)\n",
        "fewshot_prep  = make_preprocess_fn(tokenizer, max_length=256, prefix=fewshot_prefix)\n",
        "\n",
        "encoded_val_fewshot = ds[\"validation\"].map(fewshot_prep, batched=True, remove_columns=ds[\"validation\"].column_names)"
      ],
      "metadata": {
        "id": "YuWhuRAaGBLL",
        "colab": {
          "base_uri": "https://localhost:8080/",
          "height": 49,
          "referenced_widgets": [
            "ddbea966bcd740cf96ea4511d255dcd3",
            "c7eb5b33b2b749a1ace366ec8e3b34e0",
            "8ae351d2ec5e4d4ab7bcac38ad0a3a3a",
            "0d5657ccee304d92aa5ca2c3664e0fa1",
            "3a3c87df923640a79f1e6079b2ff1865",
            "595d5c43378049419d447d0361e0631a",
            "49f9f26c193c42a8806b353c469557b1",
            "6b634c3b744f409e959136043c1c86ea",
            "02b550e03ae24a8882faecdb52fa0b78",
            "4a3ece14d28e4c5abecb5fdb86da3f88",
            "9b4f8c8a854348cba44543bd4a7a23b4"
          ]
        },
        "outputId": "14214c8e-f4a2-4e37-843a-5bfa8134fe98"
      },
      "execution_count": null,
      "outputs": [
        {
          "output_type": "display_data",
          "data": {
            "text/plain": [
              "Map:   0%|          | 0/20006 [00:00<?, ? examples/s]"
            ],
            "application/vnd.jupyter.widget-view+json": {
              "version_major": 2,
              "version_minor": 0,
              "model_id": "ddbea966bcd740cf96ea4511d255dcd3"
            }
          },
          "metadata": {}
        }
      ]
    },
    {
      "cell_type": "code",
      "source": [
        "# ICL Zero-shot CoT\n",
        "cot_prefix = (\n",
        "    \"Task: Choose the most plausible continuation (A–D) for the context. \"\n",
        "    \"Let's think step by step.\"\n",
        ")\n",
        "cot_prep = make_preprocess_fn(tokenizer, max_length=192, prefix=cot_prefix)\n",
        "encoded_val_cot = ds[\"validation\"].map(cot_prep, batched=True, remove_columns=ds[\"validation\"].column_names)"
      ],
      "metadata": {
        "id": "kB3wfSxHGMoE",
        "colab": {
          "base_uri": "https://localhost:8080/",
          "height": 49,
          "referenced_widgets": [
            "63844228e8464176969b58896d838fc1",
            "a26546bdd9fe4438816c854d2e632603",
            "812b991989e74658971864508441c647",
            "19d27b9ab31940069881ef119c2b2e88",
            "30b5408038234a4aad6f3700676dddd6",
            "9afc35034df247cf9903ff3fa647804d",
            "b92c2408f4ac4ff59badef57021201b0",
            "efdf9e69cb934922ab4db707882f24db",
            "e33f7ec0a265443290695065445955eb",
            "fae3c00a5782448bbc8265832af9bae0",
            "83b07a3866bf46ea99548543718864cc"
          ]
        },
        "outputId": "2bd2ea42-0283-491e-fe32-69e028088b7d"
      },
      "execution_count": null,
      "outputs": [
        {
          "output_type": "display_data",
          "data": {
            "text/plain": [
              "Map:   0%|          | 0/20006 [00:00<?, ? examples/s]"
            ],
            "application/vnd.jupyter.widget-view+json": {
              "version_major": 2,
              "version_minor": 0,
              "model_id": "63844228e8464176969b58896d838fc1"
            }
          },
          "metadata": {}
        }
      ]
    },
    {
      "cell_type": "code",
      "source": [
        "icl_args = TrainingArguments(\n",
        "    output_dir=\"swag_icls\",\n",
        "    per_device_eval_batch_size=32,\n",
        "    dataloader_drop_last=False,\n",
        "    fp16=True,\n",
        "    report_to=\"none\",\n",
        ")\n",
        "fewshot_trainer = Trainer(\n",
        "    model=model,\n",
        "    args=icl_args,\n",
        "    eval_dataset=encoded_val_fewshot,\n",
        "    data_collator=data_collator,\n",
        "    tokenizer=tokenizer,\n",
        "    compute_metrics=compute_metrics\n",
        ")"
      ],
      "metadata": {
        "colab": {
          "base_uri": "https://localhost:8080/"
        },
        "id": "FuUsKre-Gl5l",
        "outputId": "2efa65db-ab5d-4650-f31f-2d2a058bde5f"
      },
      "execution_count": null,
      "outputs": [
        {
          "output_type": "stream",
          "name": "stderr",
          "text": [
            "/tmp/ipython-input-4042863863.py:8: FutureWarning: `tokenizer` is deprecated and will be removed in version 5.0.0 for `Trainer.__init__`. Use `processing_class` instead.\n",
            "  fewshot_trainer = Trainer(\n"
          ]
        }
      ]
    },
    {
      "cell_type": "code",
      "source": [
        "res_fewshot = fewshot_trainer.evaluate(encoded_val_fewshot)"
      ],
      "metadata": {
        "colab": {
          "base_uri": "https://localhost:8080/",
          "height": 37
        },
        "id": "1OpofiTIHcOA",
        "outputId": "56d68f5c-60c5-4bf9-b91f-093ce8dd7d4c"
      },
      "execution_count": null,
      "outputs": [
        {
          "output_type": "display_data",
          "data": {
            "text/plain": [
              "<IPython.core.display.HTML object>"
            ],
            "text/html": [
              "\n",
              "    <div>\n",
              "      \n",
              "      <progress value='626' max='626' style='width:300px; height:20px; vertical-align: middle;'></progress>\n",
              "      [626/626 05:31]\n",
              "    </div>\n",
              "    "
            ]
          },
          "metadata": {}
        }
      ]
    },
    {
      "cell_type": "code",
      "source": [
        "cot_trainer = Trainer(\n",
        "    model=model,\n",
        "    args=icl_args,\n",
        "    eval_dataset=encoded_val_cot,\n",
        "    data_collator=data_collator,\n",
        "    tokenizer=tokenizer,\n",
        "    compute_metrics=compute_metrics,\n",
        ")"
      ],
      "metadata": {
        "colab": {
          "base_uri": "https://localhost:8080/"
        },
        "id": "UKKwENALNg74",
        "outputId": "83df8e74-b86d-4dae-e6e8-fcf7df21af9d"
      },
      "execution_count": null,
      "outputs": [
        {
          "output_type": "stream",
          "name": "stderr",
          "text": [
            "/tmp/ipython-input-1773764595.py:1: FutureWarning: `tokenizer` is deprecated and will be removed in version 5.0.0 for `Trainer.__init__`. Use `processing_class` instead.\n",
            "  cot_trainer = Trainer(\n"
          ]
        }
      ]
    },
    {
      "cell_type": "code",
      "source": [
        "res_cot = cot_trainer.evaluate(encoded_val_cot)"
      ],
      "metadata": {
        "colab": {
          "base_uri": "https://localhost:8080/",
          "height": 37
        },
        "id": "USYBmxhuHdLF",
        "outputId": "67f28237-2e1e-4f63-97f7-fc0e47c30f40"
      },
      "execution_count": null,
      "outputs": [
        {
          "output_type": "display_data",
          "data": {
            "text/plain": [
              "<IPython.core.display.HTML object>"
            ],
            "text/html": [
              "\n",
              "    <div>\n",
              "      \n",
              "      <progress value='626' max='626' style='width:300px; height:20px; vertical-align: middle;'></progress>\n",
              "      [626/626 01:45]\n",
              "    </div>\n",
              "    "
            ]
          },
          "metadata": {}
        }
      ]
    },
    {
      "cell_type": "code",
      "source": [
        "rows = [\n",
        "    (\"Few-shot ICL (k=4)\", res_fewshot[\"eval_accuracy\"]),\n",
        "    (\"Zero-shot CoT\",      res_cot[\"eval_accuracy\"]),\n",
        "]\n",
        "print(\"\\nModel\\t\\t\\t\\tAccuracy\")\n",
        "for name, accv in rows:\n",
        "    print(f\"{name:24s}\\t{accv:.4f}\")"
      ],
      "metadata": {
        "colab": {
          "base_uri": "https://localhost:8080/"
        },
        "id": "B1ccdx96FVqk",
        "outputId": "5f0a1da3-285a-42af-893e-e1974d4ffe8c"
      },
      "execution_count": null,
      "outputs": [
        {
          "output_type": "stream",
          "name": "stdout",
          "text": [
            "\n",
            "Model\t\t\t\tAccuracy\n",
            "Few-shot ICL (k=4)      \t0.2642\n",
            "Zero-shot CoT           \t0.1364\n"
          ]
        }
      ]
    },
    {
      "cell_type": "markdown",
      "source": [
        "### Fine-tuning"
      ],
      "metadata": {
        "id": "kmR1B2XLRjug"
      }
    },
    {
      "cell_type": "code",
      "source": [
        "lora_cfg = LoraConfig(\n",
        "    task_type=TaskType.SEQ_CLS,\n",
        "    r=8,\n",
        "    lora_alpha=16,\n",
        "    lora_dropout=0.1,\n",
        "    target_modules=[\"query\",\"value\", \"key\"],\n",
        "    bias=\"none\"\n",
        ")"
      ],
      "metadata": {
        "id": "GRfkHCfPVddy"
      },
      "execution_count": null,
      "outputs": []
    },
    {
      "cell_type": "code",
      "source": [
        "lora_model = AutoModelForMultipleChoice.from_pretrained(\"google-bert/bert-base-uncased\")\n",
        "lora_model = get_peft_model(lora_model, lora_cfg)\n",
        "lora_model.print_trainable_parameters()"
      ],
      "metadata": {
        "colab": {
          "base_uri": "https://localhost:8080/"
        },
        "id": "-OazQUb-OADr",
        "outputId": "7a5a70d8-034c-4055-bac0-65c315262f0c"
      },
      "execution_count": null,
      "outputs": [
        {
          "output_type": "stream",
          "name": "stderr",
          "text": [
            "Some weights of BertForMultipleChoice were not initialized from the model checkpoint at google-bert/bert-base-uncased and are newly initialized: ['classifier.bias', 'classifier.weight']\n",
            "You should probably TRAIN this model on a down-stream task to be able to use it for predictions and inference.\n"
          ]
        },
        {
          "output_type": "stream",
          "name": "stdout",
          "text": [
            "trainable params: 443,137 || all params: 109,926,146 || trainable%: 0.4031\n"
          ]
        }
      ]
    },
    {
      "cell_type": "code",
      "source": [
        "num_epochs = 2\n",
        "per_device_train_bs = 8\n",
        "per_device_eval_bs  = 32\n",
        "grad_accum = 4\n",
        "lr = 2e-5"
      ],
      "metadata": {
        "id": "lqtuU1ooVz8a"
      },
      "execution_count": null,
      "outputs": []
    },
    {
      "cell_type": "code",
      "source": [
        "train_args_peft = TrainingArguments(\n",
        "    output_dir=\"swag_lora_finetune\",\n",
        "    learning_rate=lr,\n",
        "    per_device_train_batch_size=per_device_train_bs,\n",
        "    per_device_eval_batch_size=per_device_eval_bs,\n",
        "    gradient_accumulation_steps=grad_accum,\n",
        "    num_train_epochs=num_epochs,\n",
        "    eval_strategy=\"epoch\",\n",
        "    save_strategy=\"epoch\",\n",
        "    load_best_model_at_end=True,\n",
        "    metric_for_best_model=\"accuracy\",\n",
        "    greater_is_better=True,\n",
        "    fp16=torch.cuda.is_available(),\n",
        "    lr_scheduler_type=\"linear\",\n",
        "    warmup_ratio=0.1,\n",
        "    report_to=\"none\",\n",
        "    logging_steps=50\n",
        ")\n",
        "\n",
        "peft_trainer = Trainer(\n",
        "    model=lora_model,\n",
        "    args=train_args_peft,\n",
        "    train_dataset=encoded_ds[\"train\"],\n",
        "    eval_dataset=encoded_ds[\"validation\"],\n",
        "    data_collator=data_collator,\n",
        "    tokenizer=tokenizer,\n",
        "    compute_metrics=compute_metrics\n",
        ")"
      ],
      "metadata": {
        "colab": {
          "base_uri": "https://localhost:8080/"
        },
        "id": "icgS2422VqMi",
        "outputId": "7781dbeb-4f06-47e8-e91a-35b057d69c96"
      },
      "execution_count": null,
      "outputs": [
        {
          "output_type": "stream",
          "name": "stderr",
          "text": [
            "/tmp/ipython-input-3985074118.py:20: FutureWarning: `tokenizer` is deprecated and will be removed in version 5.0.0 for `Trainer.__init__`. Use `processing_class` instead.\n",
            "  peft_trainer = Trainer(\n"
          ]
        }
      ]
    },
    {
      "cell_type": "code",
      "source": [
        "peft_trainer.train()"
      ],
      "metadata": {
        "colab": {
          "base_uri": "https://localhost:8080/",
          "height": 173
        },
        "id": "-XLNhnmVVgC5",
        "outputId": "678d1862-ce3d-43ab-d356-a60b1b41790c"
      },
      "execution_count": null,
      "outputs": [
        {
          "output_type": "display_data",
          "data": {
            "text/plain": [
              "<IPython.core.display.HTML object>"
            ],
            "text/html": [
              "\n",
              "    <div>\n",
              "      \n",
              "      <progress value='4598' max='4598' style='width:300px; height:20px; vertical-align: middle;'></progress>\n",
              "      [4598/4598 24:02, Epoch 2/2]\n",
              "    </div>\n",
              "    <table border=\"1\" class=\"dataframe\">\n",
              "  <thead>\n",
              " <tr style=\"text-align: left;\">\n",
              "      <th>Epoch</th>\n",
              "      <th>Training Loss</th>\n",
              "      <th>Validation Loss</th>\n",
              "      <th>Accuracy</th>\n",
              "      <th>F1 Macro</th>\n",
              "    </tr>\n",
              "  </thead>\n",
              "  <tbody>\n",
              "    <tr>\n",
              "      <td>1</td>\n",
              "      <td>0.887300</td>\n",
              "      <td>0.768593</td>\n",
              "      <td>0.702739</td>\n",
              "      <td>0.702745</td>\n",
              "    </tr>\n",
              "    <tr>\n",
              "      <td>2</td>\n",
              "      <td>0.904300</td>\n",
              "      <td>0.739267</td>\n",
              "      <td>0.713136</td>\n",
              "      <td>0.713145</td>\n",
              "    </tr>\n",
              "  </tbody>\n",
              "</table><p>"
            ]
          },
          "metadata": {}
        },
        {
          "output_type": "execute_result",
          "data": {
            "text/plain": [
              "TrainOutput(global_step=4598, training_loss=0.972850505867021, metrics={'train_runtime': 1442.739, 'train_samples_per_second': 101.953, 'train_steps_per_second': 3.187, 'total_flos': 1.49257162554552e+16, 'train_loss': 0.972850505867021, 'epoch': 2.0})"
            ]
          },
          "metadata": {},
          "execution_count": 41
        }
      ]
    },
    {
      "cell_type": "markdown",
      "source": [
        "### Save Model"
      ],
      "metadata": {
        "id": "G-XZu1GEvSgn"
      }
    },
    {
      "cell_type": "code",
      "source": [
        "drive_ckpt_dir = \"/content/drive/MyDrive/checkpoints/bert_swag_peft\"\n",
        "train_args_peft.output_dir = drive_ckpt_dir\n",
        "peft_trainer.args = train_args_peft\n",
        "peft_trainer.save_model(drive_ckpt_dir)\n",
        "tokenizer.save_pretrained(drive_ckpt_dir)\n",
        "print(\"Everything stored in Drive: \", drive_ckpt_dir)"
      ],
      "metadata": {
        "id": "shmKOD-BYSbt",
        "colab": {
          "base_uri": "https://localhost:8080/"
        },
        "outputId": "cc0385a7-13f2-490b-ef09-63736be1f930"
      },
      "execution_count": null,
      "outputs": [
        {
          "output_type": "stream",
          "name": "stdout",
          "text": [
            "Everything stored in Drive:  /content/drive/MyDrive/checkpoints/bert_swag_peft\n"
          ]
        }
      ]
    },
    {
      "cell_type": "code",
      "source": [
        "src  = \"/content/swag_lora_finetune\"\n",
        "dest = \"/content/drive/MyDrive/checkpoints/bert_swag_peft\"\n",
        "\n",
        "!mkdir -p \"$dest\"\n",
        "!cp -r \"$src\"/* \"$dest\"\n",
        "\n",
        "print(\"Copied to Drive: \", dest)"
      ],
      "metadata": {
        "colab": {
          "base_uri": "https://localhost:8080/"
        },
        "id": "iDvtYzb90-et",
        "outputId": "bdc3bc47-04dd-4c18-f355-2c2df1136067"
      },
      "execution_count": null,
      "outputs": [
        {
          "output_type": "stream",
          "name": "stdout",
          "text": [
            "Copied to Drive:  /content/drive/MyDrive/checkpoints/bert_swag_peft\n"
          ]
        }
      ]
    },
    {
      "cell_type": "markdown",
      "source": [
        "### Load Model for Further Training"
      ],
      "metadata": {
        "id": "ck9xZrH3vV2O"
      }
    },
    {
      "cell_type": "code",
      "source": [
        "mod_address = \"/content/drive/MyDrive/checkpoints/bert_swag_peft\"\n",
        "loaded_tokenizer = AutoTokenizer.from_pretrained(mod_address, use_fast=True)\n",
        "base = AutoModelForMultipleChoice.from_pretrained(model_id)\n",
        "loaded_model = PeftModel.from_pretrained(base, mod_address)"
      ],
      "metadata": {
        "id": "h7hxMlKH13uR",
        "colab": {
          "base_uri": "https://localhost:8080/"
        },
        "outputId": "2d6ac717-3b8a-4647-ea56-76d79ae4f9b8"
      },
      "execution_count": null,
      "outputs": [
        {
          "output_type": "stream",
          "name": "stderr",
          "text": [
            "Some weights of BertForMultipleChoice were not initialized from the model checkpoint at google-bert/bert-base-uncased and are newly initialized: ['classifier.bias', 'classifier.weight']\n",
            "You should probably TRAIN this model on a down-stream task to be able to use it for predictions and inference.\n"
          ]
        }
      ]
    },
    {
      "cell_type": "code",
      "source": [
        "loaded_model.eval().to(\"cuda\" if torch.cuda.is_available() else \"cpu\")"
      ],
      "metadata": {
        "colab": {
          "base_uri": "https://localhost:8080/"
        },
        "id": "innwBpdounwS",
        "outputId": "e33dbbc0-f2ae-400b-947a-5775c9ed0dd2"
      },
      "execution_count": null,
      "outputs": [
        {
          "output_type": "execute_result",
          "data": {
            "text/plain": [
              "PeftModelForSequenceClassification(\n",
              "  (base_model): LoraModel(\n",
              "    (model): BertForMultipleChoice(\n",
              "      (bert): BertModel(\n",
              "        (embeddings): BertEmbeddings(\n",
              "          (word_embeddings): Embedding(30522, 768, padding_idx=0)\n",
              "          (position_embeddings): Embedding(512, 768)\n",
              "          (token_type_embeddings): Embedding(2, 768)\n",
              "          (LayerNorm): LayerNorm((768,), eps=1e-12, elementwise_affine=True)\n",
              "          (dropout): Dropout(p=0.1, inplace=False)\n",
              "        )\n",
              "        (encoder): BertEncoder(\n",
              "          (layer): ModuleList(\n",
              "            (0-11): 12 x BertLayer(\n",
              "              (attention): BertAttention(\n",
              "                (self): BertSdpaSelfAttention(\n",
              "                  (query): lora.Linear(\n",
              "                    (base_layer): Linear(in_features=768, out_features=768, bias=True)\n",
              "                    (lora_dropout): ModuleDict(\n",
              "                      (default): Dropout(p=0.1, inplace=False)\n",
              "                    )\n",
              "                    (lora_A): ModuleDict(\n",
              "                      (default): Linear(in_features=768, out_features=8, bias=False)\n",
              "                    )\n",
              "                    (lora_B): ModuleDict(\n",
              "                      (default): Linear(in_features=8, out_features=768, bias=False)\n",
              "                    )\n",
              "                    (lora_embedding_A): ParameterDict()\n",
              "                    (lora_embedding_B): ParameterDict()\n",
              "                    (lora_magnitude_vector): ModuleDict()\n",
              "                  )\n",
              "                  (key): lora.Linear(\n",
              "                    (base_layer): Linear(in_features=768, out_features=768, bias=True)\n",
              "                    (lora_dropout): ModuleDict(\n",
              "                      (default): Dropout(p=0.1, inplace=False)\n",
              "                    )\n",
              "                    (lora_A): ModuleDict(\n",
              "                      (default): Linear(in_features=768, out_features=8, bias=False)\n",
              "                    )\n",
              "                    (lora_B): ModuleDict(\n",
              "                      (default): Linear(in_features=8, out_features=768, bias=False)\n",
              "                    )\n",
              "                    (lora_embedding_A): ParameterDict()\n",
              "                    (lora_embedding_B): ParameterDict()\n",
              "                    (lora_magnitude_vector): ModuleDict()\n",
              "                  )\n",
              "                  (value): lora.Linear(\n",
              "                    (base_layer): Linear(in_features=768, out_features=768, bias=True)\n",
              "                    (lora_dropout): ModuleDict(\n",
              "                      (default): Dropout(p=0.1, inplace=False)\n",
              "                    )\n",
              "                    (lora_A): ModuleDict(\n",
              "                      (default): Linear(in_features=768, out_features=8, bias=False)\n",
              "                    )\n",
              "                    (lora_B): ModuleDict(\n",
              "                      (default): Linear(in_features=8, out_features=768, bias=False)\n",
              "                    )\n",
              "                    (lora_embedding_A): ParameterDict()\n",
              "                    (lora_embedding_B): ParameterDict()\n",
              "                    (lora_magnitude_vector): ModuleDict()\n",
              "                  )\n",
              "                  (dropout): Dropout(p=0.1, inplace=False)\n",
              "                )\n",
              "                (output): BertSelfOutput(\n",
              "                  (dense): Linear(in_features=768, out_features=768, bias=True)\n",
              "                  (LayerNorm): LayerNorm((768,), eps=1e-12, elementwise_affine=True)\n",
              "                  (dropout): Dropout(p=0.1, inplace=False)\n",
              "                )\n",
              "              )\n",
              "              (intermediate): BertIntermediate(\n",
              "                (dense): Linear(in_features=768, out_features=3072, bias=True)\n",
              "                (intermediate_act_fn): GELUActivation()\n",
              "              )\n",
              "              (output): BertOutput(\n",
              "                (dense): Linear(in_features=3072, out_features=768, bias=True)\n",
              "                (LayerNorm): LayerNorm((768,), eps=1e-12, elementwise_affine=True)\n",
              "                (dropout): Dropout(p=0.1, inplace=False)\n",
              "              )\n",
              "            )\n",
              "          )\n",
              "        )\n",
              "        (pooler): BertPooler(\n",
              "          (dense): Linear(in_features=768, out_features=768, bias=True)\n",
              "          (activation): Tanh()\n",
              "        )\n",
              "      )\n",
              "      (dropout): Dropout(p=0.1, inplace=False)\n",
              "      (classifier): ModulesToSaveWrapper(\n",
              "        (original_module): Linear(in_features=768, out_features=1, bias=True)\n",
              "        (modules_to_save): ModuleDict(\n",
              "          (default): Linear(in_features=768, out_features=1, bias=True)\n",
              "        )\n",
              "      )\n",
              "    )\n",
              "  )\n",
              ")"
            ]
          },
          "metadata": {},
          "execution_count": 75
        }
      ]
    },
    {
      "cell_type": "code",
      "source": [
        "train_args_peft = TrainingArguments(\n",
        "    output_dir=\"loaded_swag_lora_finetune\",\n",
        "    learning_rate=lr,\n",
        "    per_device_train_batch_size=per_device_train_bs,\n",
        "    per_device_eval_batch_size=per_device_eval_bs,\n",
        "    gradient_accumulation_steps=grad_accum,\n",
        "    num_train_epochs=num_epochs,\n",
        "    eval_strategy=\"epoch\",\n",
        "    save_strategy=\"epoch\",\n",
        "    load_best_model_at_end=True,\n",
        "    metric_for_best_model=\"accuracy\",\n",
        "    greater_is_better=True,\n",
        "    fp16=torch.cuda.is_available(),\n",
        "    lr_scheduler_type=\"linear\",\n",
        "    warmup_ratio=0.1,\n",
        "    report_to=\"none\",\n",
        "    logging_steps=50,\n",
        ")\n",
        "\n",
        "loaded_trainer = Trainer(\n",
        "    model=loaded_model,\n",
        "    args=train_args_peft,\n",
        "    train_dataset=encoded_ds[\"train\"],\n",
        "    eval_dataset=encoded_ds[\"validation\"],\n",
        "    data_collator=data_collator,\n",
        "    tokenizer=loaded_tokenizer,\n",
        "    compute_metrics=compute_metrics\n",
        ")"
      ],
      "metadata": {
        "colab": {
          "base_uri": "https://localhost:8080/"
        },
        "id": "Cy5HmzRRuuYz",
        "outputId": "6a9c6441-d75b-498f-fcc3-f2506fb4b1b4"
      },
      "execution_count": null,
      "outputs": [
        {
          "output_type": "stream",
          "name": "stderr",
          "text": [
            "/tmp/ipython-input-1975294794.py:20: FutureWarning: `tokenizer` is deprecated and will be removed in version 5.0.0 for `Trainer.__init__`. Use `processing_class` instead.\n",
            "  loaded_trainer = Trainer(\n"
          ]
        }
      ]
    },
    {
      "cell_type": "code",
      "source": [
        "loaded_trainer.train()"
      ],
      "metadata": {
        "colab": {
          "base_uri": "https://localhost:8080/",
          "height": 191
        },
        "id": "_O2MgQ4kvLyW",
        "outputId": "d944f717-cec3-4b4f-9539-ba27f1252b0c"
      },
      "execution_count": null,
      "outputs": [
        {
          "output_type": "display_data",
          "data": {
            "text/plain": [
              "<IPython.core.display.HTML object>"
            ],
            "text/html": [
              "\n",
              "    <div>\n",
              "      \n",
              "      <progress value='4598' max='4598' style='width:300px; height:20px; vertical-align: middle;'></progress>\n",
              "      [4598/4598 15:49, Epoch 2/2]\n",
              "    </div>\n",
              "    <table border=\"1\" class=\"dataframe\">\n",
              "  <thead>\n",
              " <tr style=\"text-align: left;\">\n",
              "      <th>Epoch</th>\n",
              "      <th>Training Loss</th>\n",
              "      <th>Validation Loss</th>\n",
              "      <th>Accuracy</th>\n",
              "      <th>F1 Macro</th>\n",
              "    </tr>\n",
              "  </thead>\n",
              "  <tbody>\n",
              "    <tr>\n",
              "      <td>1</td>\n",
              "      <td>0.856000</td>\n",
              "      <td>0.738428</td>\n",
              "      <td>0.714036</td>\n",
              "      <td>0.714043</td>\n",
              "    </tr>\n",
              "    <tr>\n",
              "      <td>2</td>\n",
              "      <td>0.902500</td>\n",
              "      <td>0.738045</td>\n",
              "      <td>0.714536</td>\n",
              "      <td>0.714543</td>\n",
              "    </tr>\n",
              "  </tbody>\n",
              "</table><p>"
            ]
          },
          "metadata": {}
        },
        {
          "output_type": "execute_result",
          "data": {
            "text/plain": [
              "TrainOutput(global_step=4598, training_loss=0.8871397339504353, metrics={'train_runtime': 949.9103, 'train_samples_per_second': 154.848, 'train_steps_per_second': 4.84, 'total_flos': 1.49257162554552e+16, 'train_loss': 0.8871397339504353, 'epoch': 2.0})"
            ]
          },
          "metadata": {},
          "execution_count": 78
        }
      ]
    },
    {
      "cell_type": "markdown",
      "source": [
        "### Evaluate"
      ],
      "metadata": {
        "id": "mXOcr_O2x2Gf"
      }
    },
    {
      "cell_type": "code",
      "source": [
        "post_metrics = loaded_trainer.evaluate(encoded_ds[\"validation\"])"
      ],
      "metadata": {
        "colab": {
          "base_uri": "https://localhost:8080/",
          "height": 37
        },
        "id": "RPe2XK9SwqCb",
        "outputId": "d1e82e15-ef41-4600-8f53-1cc89e125203"
      },
      "execution_count": null,
      "outputs": [
        {
          "output_type": "display_data",
          "data": {
            "text/plain": [
              "<IPython.core.display.HTML object>"
            ],
            "text/html": [
              "\n",
              "    <div>\n",
              "      \n",
              "      <progress value='626' max='626' style='width:300px; height:20px; vertical-align: middle;'></progress>\n",
              "      [626/626 01:21]\n",
              "    </div>\n",
              "    "
            ]
          },
          "metadata": {}
        }
      ]
    },
    {
      "cell_type": "code",
      "source": [
        "post_acc = post_metrics[\"eval_accuracy\"]\n",
        "post_loss = post_metrics[\"eval_loss\"]\n",
        "post_ppl = math.exp(post_loss)\n",
        "print(\"\\n=== Post-fine-tune (LoRA) Metrics ===\")\n",
        "print(f\"Accuracy: {post_acc:.4f}\")\n",
        "print(f\"Loss: {post_loss:.4f}\")\n",
        "print(f\"Perplexity:  {post_ppl:.4f}\")"
      ],
      "metadata": {
        "colab": {
          "base_uri": "https://localhost:8080/"
        },
        "id": "PZA0JP3VwyP0",
        "outputId": "a53fc2e9-0563-489e-bb47-23618cb814e9"
      },
      "execution_count": null,
      "outputs": [
        {
          "output_type": "stream",
          "name": "stdout",
          "text": [
            "\n",
            "=== Post-fine-tune (LoRA) Metrics ===\n",
            "Accuracy: 0.7145\n",
            "Loss: 0.7380\n",
            "Perplexity:  2.0918\n"
          ]
        }
      ]
    },
    {
      "cell_type": "code",
      "source": [
        "pred_out = loaded_trainer.predict(encoded_ds[\"validation\"])"
      ],
      "metadata": {
        "colab": {
          "base_uri": "https://localhost:8080/",
          "height": 17
        },
        "id": "y4D9EVOszrD6",
        "outputId": "5400df4b-6f35-4c52-8ab8-7899529f0e5b"
      },
      "execution_count": null,
      "outputs": [
        {
          "output_type": "display_data",
          "data": {
            "text/plain": [
              "<IPython.core.display.HTML object>"
            ],
            "text/html": []
          },
          "metadata": {}
        }
      ]
    },
    {
      "cell_type": "code",
      "source": [
        "logits = pred_out.predictions\n",
        "labels = pred_out.label_ids\n",
        "preds  = logits.argmax(axis=-1)\n",
        "class_ids = [0, 1, 2, 3]\n",
        "class_names = [\"ending0\", \"ending1\", \"ending2\", \"ending3\"]\n",
        "cm = confusion_matrix(labels, preds, labels=class_ids)\n",
        "fig, ax = plt.subplots(figsize=(6, 5))\n",
        "disp = ConfusionMatrixDisplay(confusion_matrix=cm, display_labels=class_names)\n",
        "disp.plot(include_values=True, ax=ax, cmap=\"Blues\")\n",
        "ax.set_title(\"Fine-tuned Confusion Matrix\")\n",
        "plt.tight_layout()\n",
        "plt.show()"
      ],
      "metadata": {
        "colab": {
          "base_uri": "https://localhost:8080/",
          "height": 489
        },
        "id": "3e98t91NBnJE",
        "outputId": "ad7f33a5-ba36-45a7-ac6e-a6af7ddafee9"
      },
      "execution_count": null,
      "outputs": [
        {
          "output_type": "display_data",
          "data": {
            "text/plain": [
              "<Figure size 600x500 with 2 Axes>"
            ],
            "image/png": "[encoded data removed]"
          },
          "metadata": {}
        }
      ]
    },
    {
      "cell_type": "code",
      "source": [
        "print(\"\\nClassification Report:\")\n",
        "print(classification_report(labels, preds, labels=[0,1,2,3], digits=3))"
      ],
      "metadata": {
        "colab": {
          "base_uri": "https://localhost:8080/"
        },
        "id": "HpeQACRzw0Xu",
        "outputId": "5d115775-728d-4512-d70e-658e2831e717"
      },
      "execution_count": null,
      "outputs": [
        {
          "output_type": "stream",
          "name": "stdout",
          "text": [
            "\n",
            "Classification Report:\n",
            "              precision    recall  f1-score   support\n",
            "\n",
            "           0      0.715     0.721     0.718      4933\n",
            "           1      0.715     0.717     0.716      5029\n",
            "           2      0.714     0.709     0.712      5038\n",
            "           3      0.713     0.711     0.712      5006\n",
            "\n",
            "    accuracy                          0.715     20006\n",
            "   macro avg      0.715     0.715     0.715     20006\n",
            "weighted avg      0.715     0.715     0.715     20006\n",
            "\n"
          ]
        }
      ]
    },
    {
      "cell_type": "code",
      "source": [
        "rows = [\n",
        "    (\"Baseline\", res_baseline[\"eval_accuracy\"]),\n",
        "    (\"Few-shot ICL\", res_fewshot[\"eval_accuracy\"]),\n",
        "    (\"Zero-shot CoT\", res_cot[\"eval_accuracy\"]),\n",
        "    (\"Fine-tuned\", post_acc),\n",
        "]\n",
        "print(\"Validation Accuracy\")\n",
        "print(\"Model\\t\\t\\t\\t\\tAccuracy\")\n",
        "for name, accv in rows:\n",
        "    print(f\"{name:32s}\\t{accv:.4f}\")"
      ],
      "metadata": {
        "id": "cF4Wc5Ml8LqQ",
        "colab": {
          "base_uri": "https://localhost:8080/"
        },
        "outputId": "13172ee3-9739-4e38-c529-82836b0fc4ed"
      },
      "execution_count": null,
      "outputs": [
        {
          "output_type": "stream",
          "name": "stdout",
          "text": [
            "Validation Accuracy\n",
            "Model\t\t\t\t\tAccuracy\n",
            "Baseline                        \t0.1190\n",
            "Few-shot ICL                    \t0.2642\n",
            "Zero-shot CoT                   \t0.1364\n",
            "Fine-tuned                      \t0.7145\n"
          ]
        }
      ]
    },
    {
      "cell_type": "markdown",
      "source": [
        "### In-Context Learning with the Fine-Tuned Model"
      ],
      "metadata": {
        "id": "CNIzpcnf4SHH"
      }
    },
    {
      "cell_type": "code",
      "source": [
        "res_finetuned_fewshot = loaded_trainer.evaluate(encoded_val_fewshot)"
      ],
      "metadata": {
        "colab": {
          "base_uri": "https://localhost:8080/",
          "height": 37
        },
        "id": "WKXrkNawwOJT",
        "outputId": "73e354a5-9fd7-46a8-8d5a-e0d2aa76efaa"
      },
      "execution_count": null,
      "outputs": [
        {
          "output_type": "display_data",
          "data": {
            "text/plain": [
              "<IPython.core.display.HTML object>"
            ],
            "text/html": [
              "\n",
              "    <div>\n",
              "      \n",
              "      <progress value='626' max='626' style='width:300px; height:20px; vertical-align: middle;'></progress>\n",
              "      [626/626 06:27]\n",
              "    </div>\n",
              "    "
            ]
          },
          "metadata": {}
        }
      ]
    },
    {
      "cell_type": "code",
      "source": [
        "preds_finetuned_fewshot = loaded_trainer.predict(encoded_val_fewshot)"
      ],
      "metadata": {
        "colab": {
          "base_uri": "https://localhost:8080/",
          "height": 17
        },
        "id": "rFW08lG487MZ",
        "outputId": "7729e7a8-02fa-4536-d219-8f58f55fba11"
      },
      "execution_count": null,
      "outputs": [
        {
          "output_type": "display_data",
          "data": {
            "text/plain": [
              "<IPython.core.display.HTML object>"
            ],
            "text/html": []
          },
          "metadata": {}
        }
      ]
    },
    {
      "cell_type": "code",
      "source": [
        "post_acc = res_finetuned_fewshot[\"eval_accuracy\"]\n",
        "post_loss = res_finetuned_fewshot[\"eval_loss\"]\n",
        "post_ppl = math.exp(post_loss)\n",
        "print(\"\\n=== Fine-tune + CoT Metrics ===\")\n",
        "print(f\"Accuracy: {post_acc:.4f}\")\n",
        "print(f\"Loss: {post_loss:.4f}\")\n",
        "print(f\"Perplexity:  {post_ppl:.4f}\")"
      ],
      "metadata": {
        "colab": {
          "base_uri": "https://localhost:8080/"
        },
        "id": "nSihLtCN_Xy9",
        "outputId": "f53f8f24-f28a-4dd7-d7e4-2813bed55cd6"
      },
      "execution_count": null,
      "outputs": [
        {
          "output_type": "stream",
          "name": "stdout",
          "text": [
            "\n",
            "=== Fine-tune + CoT Metrics ===\n",
            "Accuracy: 0.3819\n",
            "Loss: 1.3355\n",
            "Perplexity:  3.8019\n"
          ]
        }
      ]
    },
    {
      "cell_type": "code",
      "source": [
        "logits = preds_finetuned_fewshot.predictions\n",
        "labels = preds_finetuned_fewshot.label_ids\n",
        "preds  = logits.argmax(axis=-1)\n",
        "class_ids = [0, 1, 2, 3]\n",
        "class_names = [\"ending0\", \"ending1\", \"ending2\", \"ending3\"]\n",
        "cm = confusion_matrix(labels, preds, labels=class_ids)\n",
        "fig, ax = plt.subplots(figsize=(6, 5))\n",
        "disp = ConfusionMatrixDisplay(confusion_matrix=cm, display_labels=class_names)\n",
        "disp.plot(include_values=True, ax=ax, cmap=\"Blues\")\n",
        "ax.set_title(\"Fine-tuned + Few-shot Confusion Matrix\")\n",
        "plt.tight_layout()\n",
        "plt.show()"
      ],
      "metadata": {
        "colab": {
          "base_uri": "https://localhost:8080/",
          "height": 489
        },
        "id": "HwJbeyao_Lvz",
        "outputId": "a3907df7-b500-4deb-979c-a8e0346c48fa"
      },
      "execution_count": null,
      "outputs": [
        {
          "output_type": "display_data",
          "data": {
            "text/plain": [
              "<Figure size 600x500 with 2 Axes>"
            ],
            "image/png": "[encoded data removed]"
          },
          "metadata": {}
        }
      ]
    },
    {
      "cell_type": "code",
      "source": [
        "res_finetuned_cot = loaded_trainer.evaluate(encoded_val_cot)"
      ],
      "metadata": {
        "colab": {
          "base_uri": "https://localhost:8080/",
          "height": 37
        },
        "id": "rU_P3hQ05epU",
        "outputId": "431c19bc-24b1-418a-fe6b-8f9a4c0f7e3e"
      },
      "execution_count": null,
      "outputs": [
        {
          "output_type": "display_data",
          "data": {
            "text/plain": [
              "<IPython.core.display.HTML object>"
            ],
            "text/html": [
              "\n",
              "    <div>\n",
              "      \n",
              "      <progress value='1252' max='626' style='width:300px; height:20px; vertical-align: middle;'></progress>\n",
              "      [626/626 08:53]\n",
              "    </div>\n",
              "    "
            ]
          },
          "metadata": {}
        }
      ]
    },
    {
      "cell_type": "code",
      "source": [
        "preds_finetuned_cot = loaded_trainer.predict(encoded_val_cot)"
      ],
      "metadata": {
        "colab": {
          "base_uri": "https://localhost:8080/",
          "height": 17
        },
        "id": "JaNC41Q49Okv",
        "outputId": "5e777215-70a9-42c2-c044-e012dc1ae209"
      },
      "execution_count": null,
      "outputs": [
        {
          "output_type": "display_data",
          "data": {
            "text/plain": [
              "<IPython.core.display.HTML object>"
            ],
            "text/html": []
          },
          "metadata": {}
        }
      ]
    },
    {
      "cell_type": "code",
      "source": [
        "post_acc = res_finetuned_cot[\"eval_accuracy\"]\n",
        "post_loss = res_finetuned_cot[\"eval_loss\"]\n",
        "post_ppl = math.exp(post_loss)\n",
        "print(\"\\n=== Fine-tune + Few-shots Metrics  ===\")\n",
        "print(f\"Accuracy: {post_acc:.4f}\")\n",
        "print(f\"Loss: {post_loss:.4f}\")\n",
        "print(f\"Perplexity:  {post_ppl:.4f}\")"
      ],
      "metadata": {
        "colab": {
          "base_uri": "https://localhost:8080/"
        },
        "id": "BSSMPeW4_asd",
        "outputId": "b811c8f6-58d8-481c-da6f-059cecae2897"
      },
      "execution_count": null,
      "outputs": [
        {
          "output_type": "stream",
          "name": "stdout",
          "text": [
            "\n",
            "=== Fine-tune + Few-shots Metrics  ===\n",
            "Accuracy: 0.6918\n",
            "Loss: 0.7877\n",
            "Perplexity:  2.1982\n"
          ]
        }
      ]
    },
    {
      "cell_type": "code",
      "source": [
        "logits = preds_finetuned_cot.predictions\n",
        "labels = preds_finetuned_cot.label_ids\n",
        "preds  = logits.argmax(axis=-1)\n",
        "class_ids = [0, 1, 2, 3]\n",
        "class_names = [\"ending0\", \"ending1\", \"ending2\", \"ending3\"]\n",
        "cm = confusion_matrix(labels, preds, labels=class_ids)\n",
        "fig, ax = plt.subplots(figsize=(6, 5))\n",
        "disp = ConfusionMatrixDisplay(confusion_matrix=cm, display_labels=class_names)\n",
        "disp.plot(include_values=True, ax=ax, cmap=\"Blues\")\n",
        "ax.set_title(\"Fine-tuned + CoT Confusion Matrix\")\n",
        "plt.tight_layout()\n",
        "plt.show()"
      ],
      "metadata": {
        "colab": {
          "base_uri": "https://localhost:8080/",
          "height": 489
        },
        "id": "ZAV4XAQbABCo",
        "outputId": "50a0a974-77e7-4ede-8f4e-9c9321ef764f"
      },
      "execution_count": null,
      "outputs": [
        {
          "output_type": "display_data",
          "data": {
            "text/plain": [
              "<Figure size 600x500 with 2 Axes>"
            ],
            "image/png": "[encoded data removed]"
          },
          "metadata": {}
        }
      ]
    },
    {
      "cell_type": "code",
      "source": [
        "labels = [\n",
        "    \"Pretrained (no ICL)\",\n",
        "    \"Pretrained + Few-shot\",\n",
        "    \"Pretrained + CoT\",\n",
        "    \"Fine-tuned\",\n",
        "    \"Fine-tuned + Few-shot\",\n",
        "    \"Fine-tuned + CoT\",\n",
        "]\n",
        "values = [\n",
        "    res_baseline[\"eval_accuracy\"],\n",
        "    res_fewshot[\"eval_accuracy\"],\n",
        "    res_cot[\"eval_accuracy\"],\n",
        "    post_metrics[\"eval_accuracy\"],\n",
        "    res_finetuned_fewshot[\"eval_accuracy\"],\n",
        "    res_finetuned_cot[\"eval_accuracy\"],\n",
        "]\n",
        "\n",
        "y = np.arange(len(labels))\n",
        "fig, ax = plt.subplots(figsize=(10, 5))\n",
        "bars = ax.barh(y, values)\n",
        "\n",
        "ax.set_title(\"SWAG Models Accuracy\")\n",
        "ax.set_xlabel(\"Accuracy\")\n",
        "ax.xaxis.set_major_formatter(PercentFormatter(1.0))\n",
        "ax.set_yticks(y, labels)\n",
        "\n",
        "for bar, v in zip(bars, values):\n",
        "    ax.annotate(f\"{v*100:.1f}%\",\n",
        "                xy=(v, bar.get_y() + bar.get_height()/2),\n",
        "                xytext=(3, 0),\n",
        "                textcoords=\"offset points\",\n",
        "                va=\"center\", ha=\"left\")\n",
        "\n",
        "ax.set_xlim(0, min(1.0, max(values)*1.10))\n",
        "plt.tight_layout()\n",
        "plt.show()"
      ],
      "metadata": {
        "colab": {
          "base_uri": "https://localhost:8080/",
          "height": 507
        },
        "id": "LpPw8ZWn9qxx",
        "outputId": "09a746ac-c51d-4ee4-f4e2-020dae805cc8"
      },
      "execution_count": 162,
      "outputs": [
        {
          "output_type": "display_data",
          "data": {
            "text/plain": [
              "<Figure size 1000x500 with 1 Axes>"
            ],
            "image/png": "[encoded data removed]"
          },
          "metadata": {}
        }
      ]
    },
    {
      "cell_type": "markdown",
      "source": [
        "### Analyse the results"
      ],
      "metadata": {
        "id": "Gz30I3WPHtcH"
      }
    },
    {
      "cell_type": "markdown",
      "source": [
        "The best performance is for fine-tuned model without ICL. As we can see, ICL's performance became worse which when apply to fine-tuned moddel and it is natural because our model wasn't trained on those datasets. We should fine-tune the model with few shot style to show that the performance will be better in this way than simply applying the few shot dataset on the model that isn't fine-tuned on the few-shots dataset."
      ],
      "metadata": {
        "id": "Vct8-etlD9EW"
      }
    },
    {
      "cell_type": "markdown",
      "source": [
        "### Questions"
      ],
      "metadata": {
        "id": "PM4iUPKxNGnk"
      }
    },
    {
      "cell_type": "markdown",
      "source": [
        "1. Fine-tuning a large model like BERT can be powerful but also resource-intensive. In\n",
        "what scenarios might fine-tuning be the best approach? When might you prefer ICL\n",
        "instead? Are there cases where you might combine both?\n",
        "\n",
        "Answer:\n",
        "\n",
        "**When fine-tuning is best**\n",
        "- **Stable task & long-term use:** Same format for months; you’ll amortize training cost.\n",
        "- **High accuracy/safety bar:** Need the strongest use of labels; weights adapt to your distribution.\n",
        "- **Latency/throughput constraints:** No long prompt → faster/cheaper inference.\n",
        "- **Privacy or short context:** Avoids exposing demos; keeps inputs compact.\n",
        "- **You have labels + some compute:** Even adapter FT (LoRA) with modest data tends to beat prompting alone.\n",
        "\n",
        "**When to prefer ICL**\n",
        "- **Little/no labeled data:** You can curate a handful of good demos quickly.\n",
        "- **Rapid iteration / many variants:** Tasks or policies change weekly; “program by prompt.”\n",
        "- **Per-tenant personalization:** Different clients prefer different styles; swap demos at inference.\n",
        "- **Can’t train on sensitive data:** You may *show* de-identified examples at inference but cannot train on them.\n",
        "\n",
        "**When to combine fine-tuning + ICL**\n",
        "- **Mild domain shift:** Fine-tuned on general data, need to nudge toward a subdomain (e.g., sports narratives).\n",
        "- **Policy/format steering:** One fine-tuned model; control tone/caution/output schema via demos.\n",
        "- **Seasonality/cold start:** Keep a strong base; rotate ICL snapshots to adapt quickly.\n",
        "\n",
        "**Why a fine-tuned model may gain little from ICL**\n",
        "- **Already internalized** task cues; demos add limited new signal.\n",
        "- **Truncation risk:** ICL prefix consumes context budget.\n",
        "- **Noisy demos / style mismatch:** Can distract a specialized head.\n",
        "\n",
        "**Mitigations if combining**\n",
        "- Keep demos **short & consistent** (context + options + “Answer: X”).\n",
        "- **Increase `max_length`** for ICL runs to avoid truncation.\n",
        "- **Retrieve** demos similar to the current query (embedding-based), not random.\n",
        "\n",
        "**Real-world scenarios where FT + ICL shines**\n",
        "- **Rapid domain tweaks** without retraining (product lines, news domains).\n",
        "- **Per-tenant/policy controls** at inference time.\n",
        "- **Evaluation-time steering** (e.g., more conservative picks in high-risk settings)."
      ],
      "metadata": {
        "id": "j6_0HeKiNJWf"
      }
    },
    {
      "cell_type": "markdown",
      "source": [
        "2. In your ICL prompts, you used examples from SWAG. If you had to design a custom\n",
        "ICL prompt for a different task (e.g., predicting medical diagnoses or financial trends),\n",
        "what kinds of examples would you choose? What factors would you consider when\n",
        "selecting them?\n",
        "\n",
        "Answer:\n",
        "\n",
        "**What examples to include**\n",
        "- **Representative & diverse:** Cover common cases **and** edge cases/near-misses.\n",
        "- **High-quality labels:** Expert-verified/audited; avoid weak heuristics.\n",
        "- **Balanced coverage:** Don’t overrepresent one label; include negatives/counterexamples.\n",
        "- **Ambiguity & confounders:** Pairs that differ on the *decisive* feature.\n",
        "- **Recent & local:** Reflect current guidelines/market regimes in the deployment region.\n",
        "- **De-identified & compliant:** Remove PHI/PII; follow HIPAA/GDPR/internal policies.\n",
        "- **No leakage:** Only include info available at prediction time.\n",
        "- **Format-consistent & concise:** Same field order/units as your inference inputs; keep it short.\n",
        "\n",
        "**Prompt templates**\n",
        "\n",
        "*Medical*  \n",
        "~~~text\n",
        "Task: Pick the most likely diagnosis (A–D) from the context.\n",
        "\n",
        "Example 1\n",
        "Context:\n",
        "- Age: 64, Sex: F\n",
        "- Symptoms: exertional chest pain, dyspnea\n",
        "- Vitals: BP 150/92, HR 96\n",
        "- Labs: troponin normal, D-dimer low\n",
        "Options:\n",
        "A) Stable angina\n",
        "B) Pulmonary embolism\n",
        "C) Aortic dissection\n",
        "D) Anxiety\n",
        "Answer: A\n",
        "\n",
        "Example 2\n",
        "...\n",
        "Answer: D\n",
        "\n",
        "Now solve:\n",
        "Context:\n",
        "<patient summary here>\n",
        "Options:\n",
        "A) ...\n",
        "B) ...\n",
        "C) ...\n",
        "D) ...\n",
        "~~~\n",
        "\n",
        "*Finance (risk/trend classification, multiple-choice)*  \n",
        "~~~text\n",
        "Task: Classify the next 7-day risk (A–D).\n",
        "\n",
        "Example 1\n",
        "Context:\n",
        "- Sector: Semiconductors\n",
        "- Recent returns: +3.2%, −1.1%, +0.5%\n",
        "- Volatility: medium; RSI: 68\n",
        "- Macro: CPI surprise +0.2%\n",
        "Options:\n",
        "A) Strong downside risk\n",
        "B) Mild downside risk\n",
        "C) Mild upside\n",
        "D) Strong upside\n",
        "Answer: C\n",
        "\n",
        "Now solve:\n",
        "Context:\n",
        "<features for current asset>\n",
        "Options:\n",
        "A) ...\n",
        "B) ...\n",
        "C) ...\n",
        "D) ...\n",
        "~~~\n",
        "\n",
        "**Practical knobs**\n",
        "- **k shots:** 2–6 tends to work better than 10+ (signal vs. length).\n",
        "- **Ordering:** Put the most informative demo first; keep order fixed for evals.\n",
        "- **Short rationales (optional):** If included, keep to one sentence and consistent phrasing; watch for truncation.\n",
        "- **Metrics to monitor:** Overall accuracy, **per-class accuracy**, log-loss (confidence), and confusion matrices to spot label-specific shifts."
      ],
      "metadata": {
        "id": "Vl3-nDIdOmJs"
      }
    }
  ]
}