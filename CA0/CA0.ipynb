{
 "cells": [
  {
   "cell_type": "markdown",
   "metadata": {},
   "source": [
    "## Roulette Simulation and Profit Analysis"
   ]
  },
  {
   "cell_type": "markdown",
   "metadata": {},
   "source": [
    "Roulette is a popular casino game played with a wheel that has numbered slots colored red, black, or green. In American roulette, the wheel has 38 slots: 18 red slots, 18 black slots, and 2 green slots labeled \"0\" and \"00.\"\n",
    "\n",
    "Players can place various types of bets, including betting on whether the outcome will be a red or black slot. In this exercise, we focus on a simple bet: betting on black.\n",
    "\n",
    "<div style=\"text-align: center;\">\n",
    "    <img src=\"image.png\" alt=\"Roulette Wheel\" style=\"width: 30%;\">\n",
    "</div>\n",
    "\n",
    "If you place a bet on black and the outcome is indeed black, you win and double your money. However, if the outcome is red or green, you lose the amount you bet. For example, if you bet 1 dollar on black and win, you gain 1 dollar. If you lose, you forfeit your 1-dollar bet.\n",
    "\n",
    "Since there are three colors, the probability of landing on black is not exactly $\\frac{1}{2}$, but rather: $\\frac{18}{38} = \\frac{9}{19}$"
   ]
  },
  {
   "cell_type": "markdown",
   "metadata": {},
   "source": [
    "### 1.function that simulates this game for 𝑁 rounds"
   ]
  },
  {
   "cell_type": "code",
   "execution_count": 17,
   "metadata": {},
   "outputs": [],
   "source": [
    "import random\n",
    "\n",
    "def roulette_simulation(N):\n",
    "    total_earned = 0\n",
    "    for _ in range(N):\n",
    "        number = random.randint(1, 38)\n",
    "        if number <= 18:\n",
    "            total_earned += 1\n",
    "        else:\n",
    "            total_earned -= 1\n",
    "            \n",
    "    return total_earned\n"
   ]
  },
  {
   "cell_type": "code",
   "execution_count": 18,
   "metadata": {},
   "outputs": [
    {
     "name": "stdout",
     "output_type": "stream",
     "text": [
      "-40\n"
     ]
    }
   ],
   "source": [
    "N = 1000\n",
    "earnings = roulette_simulation(N)\n",
    "print(earnings)"
   ]
  }
 ],
 "metadata": {
  "kernelspec": {
   "display_name": "Python 3",
   "language": "python",
   "name": "python3"
  },
  "language_info": {
   "codemirror_mode": {
    "name": "ipython",
    "version": 3
   },
   "file_extension": ".py",
   "mimetype": "text/x-python",
   "name": "python",
   "nbconvert_exporter": "python",
   "pygments_lexer": "ipython3",
   "version": "3.12.2"
  }
 },
 "nbformat": 4,
 "nbformat_minor": 2
}
