{
 "cells": [
  {
   "cell_type": "markdown",
   "id": "b87f7521",
   "metadata": {},
   "source": [
    "## Database Implementation and Data Querying"
   ]
  },
  {
   "cell_type": "markdown",
   "id": "a2573002",
   "metadata": {},
   "source": [
    "We have three csv files for our dataset. The main one that we work on it is \"flights.csv\" which has different information about the flights in USA. Also we have \"airports.csv\" which has the information of the airports that appeared in flights dataset. At the end, we have \"airlines.csv\" which has the information about the airlines that appeared in flights dataset. Now we want to make our database for these datasets in MySQL. First, we will create the tables with showing proper ralations between them by setting primary keys and foreign keys correctly. The sql code for creating the tables is in \"create_tables.sql\". Below is the images of the tables:"
   ]
  },
  {
   "cell_type": "markdown",
   "id": "ac62de12",
   "metadata": {},
   "source": [
    "Below is the picture of airlines table which has unique airline_id (for defining foreign key later) and also the iata_code for different airlines."
   ]
  },
  {
   "cell_type": "markdown",
   "id": "3a9e50d0",
   "metadata": {},
   "source": [
    "![Image description](screenshots/Screenshot%20from%202025-04-29%2008-29-52.png)"
   ]
  },
  {
   "cell_type": "markdown",
   "id": "732bc320",
   "metadata": {},
   "source": [
    "Also below is the picture of airports table which has different airports' iata_code along with the airport name and other information about that airport."
   ]
  },
  {
   "cell_type": "markdown",
   "id": "f26f16e4",
   "metadata": {},
   "source": [
    "![Image description](screenshots/Screenshot%20from%202025-04-29%2008-30-09.png)"
   ]
  },
  {
   "cell_type": "markdown",
   "id": "fb68474f",
   "metadata": {},
   "source": [
    "At last, below is the picture of flights table that has different information about flights. The iata codes for origin airport and destination airport arre present in airports table so we can join them based on this attribute later in queries. Also the iata codes for airlines are present in airline table. Also the table has foreign keys that one of them references to airlines_id and the other refrences to airports_id."
   ]
  },
  {
   "cell_type": "markdown",
   "id": "316c076d",
   "metadata": {},
   "source": [
    "![Image description](screenshots/Screenshot%20from%202025-04-29%2008-30-26.png)"
   ]
  },
  {
   "cell_type": "markdown",
   "id": "3ecc3408",
   "metadata": {},
   "source": [
    "Now we want to write some queries on these table to get some information from our data. Below query shows the number of flights from each airline:"
   ]
  },
  {
   "cell_type": "markdown",
   "id": "fc9c66d1",
   "metadata": {},
   "source": [
    "![Image description](screenshots/Screenshot%20from%202025-04-29%2008-49-36.png)"
   ]
  },
  {
   "cell_type": "markdown",
   "id": "8df4714f",
   "metadata": {},
   "source": [
    "![Image description](screenshots/Screenshot%20from%202025-04-29%2008-49-45.png)"
   ]
  },
  {
   "cell_type": "markdown",
   "id": "59ebff81",
   "metadata": {},
   "source": [
    "Below query shows the average departure delay for each airline:"
   ]
  },
  {
   "cell_type": "markdown",
   "id": "bf318f9a",
   "metadata": {},
   "source": [
    "![Image description](screenshots/Screenshot%20from%202025-04-29%2008-51-31.png)"
   ]
  },
  {
   "cell_type": "markdown",
   "id": "7b4210da",
   "metadata": {},
   "source": [
    "![Image description](screenshots/Screenshot%20from%202025-04-29%2008-51-38.png)"
   ]
  },
  {
   "cell_type": "markdown",
   "id": "af9fb154",
   "metadata": {},
   "source": [
    "Below query shows the number of cancelled flights per airline:"
   ]
  },
  {
   "cell_type": "markdown",
   "id": "99a88f5a",
   "metadata": {},
   "source": [
    "![Image description](screenshots/Screenshot%20from%202025-04-30%2014-21-39.png)"
   ]
  },
  {
   "cell_type": "markdown",
   "id": "cf65a100",
   "metadata": {},
   "source": [
    "![Image description](screenshots/Screenshot%20from%202025-04-30%2014-21-55.png)"
   ]
  },
  {
   "cell_type": "markdown",
   "id": "2592631f",
   "metadata": {},
   "source": [
    "Below query shows the average fly time between two specific airports:"
   ]
  },
  {
   "cell_type": "markdown",
   "id": "225fa9e9",
   "metadata": {},
   "source": [
    "![Image description](screenshots/Screenshot%20from%202025-04-30%2014-25-02.png)"
   ]
  },
  {
   "cell_type": "markdown",
   "id": "0d9b209e",
   "metadata": {},
   "source": [
    "![Image description](screenshots/Screenshot%20from%202025-04-30%2014-25-15.png)"
   ]
  },
  {
   "cell_type": "markdown",
   "id": "4ca3b0b3",
   "metadata": {},
   "source": [
    "Below query shows the different information about the origin and the destination airport by joining the flights table and airports table:"
   ]
  },
  {
   "cell_type": "markdown",
   "id": "6e270963",
   "metadata": {},
   "source": [
    "![Image description](screenshots/Screenshot%20from%202025-04-30%2014-28-46.png)"
   ]
  },
  {
   "cell_type": "markdown",
   "id": "84b23f73",
   "metadata": {},
   "source": [
    "![Image description](screenshots/Screenshot%20from%202025-04-30%2014-29-05.png)"
   ]
  },
  {
   "cell_type": "markdown",
   "id": "5bb2ffbd",
   "metadata": {},
   "source": [
    "For the final query, it shows the complete airline name of each flight by joining the flights table and airlines table: "
   ]
  },
  {
   "cell_type": "markdown",
   "id": "8ffa6901",
   "metadata": {},
   "source": [
    "![Image description](screenshots/Screenshot%20from%202025-04-30%2014-31-56.png)"
   ]
  },
  {
   "cell_type": "markdown",
   "id": "92420d60",
   "metadata": {},
   "source": [
    "![Image description](screenshots/Screenshot%20from%202025-04-30%2014-32-03.png)"
   ]
  }
 ],
 "metadata": {
  "kernelspec": {
   "display_name": "base",
   "language": "python",
   "name": "python3"
  },
  "language_info": {
   "codemirror_mode": {
    "name": "ipython",
    "version": 3
   },
   "file_extension": ".py",
   "mimetype": "text/x-python",
   "name": "python",
   "nbconvert_exporter": "python",
   "pygments_lexer": "ipython3",
   "version": "3.12.2"
  }
 },
 "nbformat": 4,
 "nbformat_minor": 5
}
